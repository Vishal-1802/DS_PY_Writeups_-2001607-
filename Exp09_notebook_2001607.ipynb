{
  "nbformat": 4,
  "nbformat_minor": 0,
  "metadata": {
    "colab": {
      "provenance": [],
      "mount_file_id": "1QXr99qgKHneNfKB60hhujz6mOnq5v9B9",
      "authorship_tag": "ABX9TyMV/U2V4FBZP6kEwCIB/k6a",
      "include_colab_link": true
    },
    "kernelspec": {
      "name": "python3",
      "display_name": "Python 3"
    },
    "language_info": {
      "name": "python"
    }
  },
  "cells": [
    {
      "cell_type": "markdown",
      "metadata": {
        "id": "view-in-github",
        "colab_type": "text"
      },
      "source": [
        "<a href=\"https://colab.research.google.com/github/Vishal-1802/DS_PY_Writeups_-2001607-/blob/main/Exp09_notebook_2001607.ipynb\" target=\"_parent\"><img src=\"https://colab.research.google.com/assets/colab-badge.svg\" alt=\"Open In Colab\"/></a>"
      ]
    },
    {
      "cell_type": "markdown",
      "source": [
        "#1. Define your Problem statement and ML technique II(two) you propose to use. \n",
        "\n"
      ],
      "metadata": {
        "id": "PK8XP0WMrMsD"
      }
    },
    {
      "cell_type": "markdown",
      "source": [
        "#Problem statement:\n",
        " Predict the power output of a wind turbine given the speed and angle of the wind.\n",
        "\n",
        "#ML techniques:\n",
        "\n",
        "#Linear regression:\n",
        " Linear regression is a simple and commonly used technique for predicting a continuous variable. In this case, we can use linear regression to create a model that predicts the power output of a wind turbine based on the speed and angle of the wind.\n",
        "#Random Forest Regression:\n",
        " Random forest regression is a powerful technique that can handle non-linear relationships between variables. It works by creating multiple decision trees and combining their predictions to make a final prediction. In this case, we can use random forest regression to create a model that predicts the power output of a wind turbine based on the speed and angle of the wind.\n",
        "\n",
        "\n"
      ],
      "metadata": {
        "id": "ViRcvjyGrUSV"
      }
    },
    {
      "cell_type": "markdown",
      "source": [
        "#2. Write about working of ML technique II you have proposed  "
      ],
      "metadata": {
        "id": "k-6PHu6jsBCH"
      }
    },
    {
      "cell_type": "markdown",
      "source": [
        "The machine learning technique II proposed for this problem is Support Vector Regression (SVR). SVR is a supervised learning algorithm that can be used for regression analysis.\n",
        "\n",
        "The working of SVR involves finding the best-fit line, which is the line that maximizes the margin between the data points and the line. This line is called the hyperplane, and the data points closest to the hyperplane are called the support vectors. The hyperplane can be linear or non-linear depending on the kernel used.\n",
        "\n",
        "The SVR algorithm takes a training set of input-output pairs, and finds the optimal hyperplane that fits the training data by minimizing the distance between the hyperplane and the support vectors. Once the hyperplane is found, it can be used to predict the output value of new input values.\n",
        "\n",
        "One of the strengths of SVR is its ability to handle non-linear relationships between input and output variables through the use of non-linear kernels. The most commonly used kernels are the Gaussian (RBF) kernel, the polynomial kernel, and the sigmoid kernel.\n",
        "\n",
        "Overall, SVR is a powerful technique for regression analysis, especially when dealing with complex data sets with non-linear relationships between the input and output variables.\n",
        "\n",
        "\n",
        "\n",
        "\n",
        "\n"
      ],
      "metadata": {
        "id": "eGWT3Bd7sHqP"
      }
    },
    {
      "cell_type": "markdown",
      "source": [
        "#3. Pull your chosen data set from experiment 7  \n",
        "\n"
      ],
      "metadata": {
        "id": "DVTboRUDsV2X"
      }
    },
    {
      "cell_type": "code",
      "source": [
        "from google.colab import drive\n",
        "drive.mount('/content/drive')"
      ],
      "metadata": {
        "colab": {
          "base_uri": "https://localhost:8080/"
        },
        "id": "v_Va3bUcsb-7",
        "outputId": "07a1745e-5d40-4e54-c79d-f45c029ff985"
      },
      "execution_count": 1,
      "outputs": [
        {
          "output_type": "stream",
          "name": "stdout",
          "text": [
            "Drive already mounted at /content/drive; to attempt to forcibly remount, call drive.mount(\"/content/drive\", force_remount=True).\n"
          ]
        }
      ]
    },
    {
      "cell_type": "code",
      "source": [
        "import pandas as pd\n",
        "\n",
        "data = pd.read_csv('/content/drive/MyDrive/Colab Notebooks/Container_Crane_Controller_Data_Set.csv')"
      ],
      "metadata": {
        "id": "DsLi_Q01stBj"
      },
      "execution_count": 2,
      "outputs": []
    },
    {
      "cell_type": "code",
      "source": [
        "data"
      ],
      "metadata": {
        "colab": {
          "base_uri": "https://localhost:8080/",
          "height": 519
        },
        "id": "OxtM6Eavsu_o",
        "outputId": "d57b64f1-e6b7-41d3-95df-1e1d1e63aca2"
      },
      "execution_count": 3,
      "outputs": [
        {
          "output_type": "execute_result",
          "data": {
            "text/plain": [
              "         Speed;Angle;Power\n",
              "1;-5;0                   3\n",
              "2;5;0                    3\n",
              "3;-2;0                   5\n",
              "1;2;0                    5\n",
              "2;0;0                    7\n",
              "6;-5;0                   5\n",
              "7;5;0                    5\n",
              "6;-2;0                   3\n",
              "7;2;0                    3\n",
              "6;0;0                    7\n",
              "8;-5;0                   5\n",
              "9;5;0                    5\n",
              "10;-2;0                  3\n",
              "8;2;0                    3\n",
              "9;0;0                    5"
            ],
            "text/html": [
              "\n",
              "  <div id=\"df-38f542a9-fc96-4068-956b-9512580540d7\">\n",
              "    <div class=\"colab-df-container\">\n",
              "      <div>\n",
              "<style scoped>\n",
              "    .dataframe tbody tr th:only-of-type {\n",
              "        vertical-align: middle;\n",
              "    }\n",
              "\n",
              "    .dataframe tbody tr th {\n",
              "        vertical-align: top;\n",
              "    }\n",
              "\n",
              "    .dataframe thead th {\n",
              "        text-align: right;\n",
              "    }\n",
              "</style>\n",
              "<table border=\"1\" class=\"dataframe\">\n",
              "  <thead>\n",
              "    <tr style=\"text-align: right;\">\n",
              "      <th></th>\n",
              "      <th>Speed;Angle;Power</th>\n",
              "    </tr>\n",
              "  </thead>\n",
              "  <tbody>\n",
              "    <tr>\n",
              "      <th>1;-5;0</th>\n",
              "      <td>3</td>\n",
              "    </tr>\n",
              "    <tr>\n",
              "      <th>2;5;0</th>\n",
              "      <td>3</td>\n",
              "    </tr>\n",
              "    <tr>\n",
              "      <th>3;-2;0</th>\n",
              "      <td>5</td>\n",
              "    </tr>\n",
              "    <tr>\n",
              "      <th>1;2;0</th>\n",
              "      <td>5</td>\n",
              "    </tr>\n",
              "    <tr>\n",
              "      <th>2;0;0</th>\n",
              "      <td>7</td>\n",
              "    </tr>\n",
              "    <tr>\n",
              "      <th>6;-5;0</th>\n",
              "      <td>5</td>\n",
              "    </tr>\n",
              "    <tr>\n",
              "      <th>7;5;0</th>\n",
              "      <td>5</td>\n",
              "    </tr>\n",
              "    <tr>\n",
              "      <th>6;-2;0</th>\n",
              "      <td>3</td>\n",
              "    </tr>\n",
              "    <tr>\n",
              "      <th>7;2;0</th>\n",
              "      <td>3</td>\n",
              "    </tr>\n",
              "    <tr>\n",
              "      <th>6;0;0</th>\n",
              "      <td>7</td>\n",
              "    </tr>\n",
              "    <tr>\n",
              "      <th>8;-5;0</th>\n",
              "      <td>5</td>\n",
              "    </tr>\n",
              "    <tr>\n",
              "      <th>9;5;0</th>\n",
              "      <td>5</td>\n",
              "    </tr>\n",
              "    <tr>\n",
              "      <th>10;-2;0</th>\n",
              "      <td>3</td>\n",
              "    </tr>\n",
              "    <tr>\n",
              "      <th>8;2;0</th>\n",
              "      <td>3</td>\n",
              "    </tr>\n",
              "    <tr>\n",
              "      <th>9;0;0</th>\n",
              "      <td>5</td>\n",
              "    </tr>\n",
              "  </tbody>\n",
              "</table>\n",
              "</div>\n",
              "      <button class=\"colab-df-convert\" onclick=\"convertToInteractive('df-38f542a9-fc96-4068-956b-9512580540d7')\"\n",
              "              title=\"Convert this dataframe to an interactive table.\"\n",
              "              style=\"display:none;\">\n",
              "        \n",
              "  <svg xmlns=\"http://www.w3.org/2000/svg\" height=\"24px\"viewBox=\"0 0 24 24\"\n",
              "       width=\"24px\">\n",
              "    <path d=\"M0 0h24v24H0V0z\" fill=\"none\"/>\n",
              "    <path d=\"M18.56 5.44l.94 2.06.94-2.06 2.06-.94-2.06-.94-.94-2.06-.94 2.06-2.06.94zm-11 1L8.5 8.5l.94-2.06 2.06-.94-2.06-.94L8.5 2.5l-.94 2.06-2.06.94zm10 10l.94 2.06.94-2.06 2.06-.94-2.06-.94-.94-2.06-.94 2.06-2.06.94z\"/><path d=\"M17.41 7.96l-1.37-1.37c-.4-.4-.92-.59-1.43-.59-.52 0-1.04.2-1.43.59L10.3 9.45l-7.72 7.72c-.78.78-.78 2.05 0 2.83L4 21.41c.39.39.9.59 1.41.59.51 0 1.02-.2 1.41-.59l7.78-7.78 2.81-2.81c.8-.78.8-2.07 0-2.86zM5.41 20L4 18.59l7.72-7.72 1.47 1.35L5.41 20z\"/>\n",
              "  </svg>\n",
              "      </button>\n",
              "      \n",
              "  <style>\n",
              "    .colab-df-container {\n",
              "      display:flex;\n",
              "      flex-wrap:wrap;\n",
              "      gap: 12px;\n",
              "    }\n",
              "\n",
              "    .colab-df-convert {\n",
              "      background-color: #E8F0FE;\n",
              "      border: none;\n",
              "      border-radius: 50%;\n",
              "      cursor: pointer;\n",
              "      display: none;\n",
              "      fill: #1967D2;\n",
              "      height: 32px;\n",
              "      padding: 0 0 0 0;\n",
              "      width: 32px;\n",
              "    }\n",
              "\n",
              "    .colab-df-convert:hover {\n",
              "      background-color: #E2EBFA;\n",
              "      box-shadow: 0px 1px 2px rgba(60, 64, 67, 0.3), 0px 1px 3px 1px rgba(60, 64, 67, 0.15);\n",
              "      fill: #174EA6;\n",
              "    }\n",
              "\n",
              "    [theme=dark] .colab-df-convert {\n",
              "      background-color: #3B4455;\n",
              "      fill: #D2E3FC;\n",
              "    }\n",
              "\n",
              "    [theme=dark] .colab-df-convert:hover {\n",
              "      background-color: #434B5C;\n",
              "      box-shadow: 0px 1px 3px 1px rgba(0, 0, 0, 0.15);\n",
              "      filter: drop-shadow(0px 1px 2px rgba(0, 0, 0, 0.3));\n",
              "      fill: #FFFFFF;\n",
              "    }\n",
              "  </style>\n",
              "\n",
              "      <script>\n",
              "        const buttonEl =\n",
              "          document.querySelector('#df-38f542a9-fc96-4068-956b-9512580540d7 button.colab-df-convert');\n",
              "        buttonEl.style.display =\n",
              "          google.colab.kernel.accessAllowed ? 'block' : 'none';\n",
              "\n",
              "        async function convertToInteractive(key) {\n",
              "          const element = document.querySelector('#df-38f542a9-fc96-4068-956b-9512580540d7');\n",
              "          const dataTable =\n",
              "            await google.colab.kernel.invokeFunction('convertToInteractive',\n",
              "                                                     [key], {});\n",
              "          if (!dataTable) return;\n",
              "\n",
              "          const docLinkHtml = 'Like what you see? Visit the ' +\n",
              "            '<a target=\"_blank\" href=https://colab.research.google.com/notebooks/data_table.ipynb>data table notebook</a>'\n",
              "            + ' to learn more about interactive tables.';\n",
              "          element.innerHTML = '';\n",
              "          dataTable['output_type'] = 'display_data';\n",
              "          await google.colab.output.renderOutput(dataTable, element);\n",
              "          const docLink = document.createElement('div');\n",
              "          docLink.innerHTML = docLinkHtml;\n",
              "          element.appendChild(docLink);\n",
              "        }\n",
              "      </script>\n",
              "    </div>\n",
              "  </div>\n",
              "  "
            ]
          },
          "metadata": {},
          "execution_count": 3
        }
      ]
    },
    {
      "cell_type": "markdown",
      "source": [
        "#4. Do pre-processing as per requirements of ML technique II "
      ],
      "metadata": {
        "id": "v1EfIytQs4vk"
      }
    },
    {
      "cell_type": "markdown",
      "source": [
        "#The pre-processing steps required for the ML technique of Random Forest Regression are:\n",
        "\n",
        "#1-Handling Missing Values: If there are any missing values in the dataset, they need to be handled appropriately. One common approach is to replace the missing values with the mean or median of the column.\n",
        "\n",
        "#2-Encoding Categorical Variables: Random Forest Regression can handle categorical variables, but they need to be encoded as numeric values first. One common approach is to use one-hot encoding, which creates a binary column for each category.\n",
        "\n",
        "#3-Splitting the Dataset: The dataset needs to be split into training and testing sets. The training set is used to train the model, and the testing set is used to evaluate its performance.\n",
        "\n",
        "#4-Feature Scaling: Random Forest Regression is not sensitive to feature scaling, but it may help to improve performance. One common approach is to scale the features to have zero mean and unit variance, using techniques such as StandardScaler or MinMaxScaler.\n",
        "\n",
        "#5-Handling Outliers: Random Forest Regression can handle outliers, but they may affect the performance of the model. One common approach is to remove outliers or cap them at a certain value.\n",
        "\n",
        "#6-Feature Selection: Random Forest Regression can automatically perform feature selection by analyzing the importance of each feature. However, it may also help to manually select the most relevant features based on domain knowledge or other techniques such as PCA (Principal Component Analysis).\n",
        "\n",
        "\n",
        "\n",
        "\n"
      ],
      "metadata": {
        "id": "f4TFI7KAtJzZ"
      }
    },
    {
      "cell_type": "markdown",
      "source": [
        "#5. Divide Data set in to training and validation sets"
      ],
      "metadata": {
        "id": "93SlL9oRtovS"
      }
    },
    {
      "cell_type": "code",
      "source": [
        "import pandas as pd\n",
        "from sklearn.model_selection import train_test_split\n",
        "\n",
        "# Load the dataset from a CSV file\n",
        "df = pd.read_csv('/content/drive/MyDrive/Colab Notebooks/Container_Crane_Controller_Data_Set.csv')\n",
        "\n",
        "# Split the dataset into input features and target variable\n",
        "X = df.drop('Speed;Angle;Power', axis=1)  # drop the column with the target variable\n",
        "y = df['Speed;Angle;Power']  # select the column with the target variable\n",
        "\n",
        "# Split the dataset into training and validation sets\n",
        "train_X, val_X, train_y, val_y = train_test_split(X, y, test_size=0.2, random_state=42)"
      ],
      "metadata": {
        "id": "O_BMPvJFuaX-"
      },
      "execution_count": 4,
      "outputs": []
    },
    {
      "cell_type": "markdown",
      "source": [
        "#6. Perform training"
      ],
      "metadata": {
        "id": "J4w2OlBkx-t7"
      }
    },
    {
      "cell_type": "code",
      "source": [
        "import tensorflow as tf\n",
        "import pandas as pd\n",
        "import numpy as np\n",
        "\n",
        "# Load the data from the CSV file and replace commas with periods\n",
        "df = pd.read_csv('/content/drive/MyDrive/Colab Notebooks/Container_Crane_Controller_Data_Set.csv', delimiter=';')\n",
        "df = df.replace(',', '.', regex=True)\n",
        "\n",
        "# Split the data into training and testing sets\n",
        "train_size = int(0.8 * len(df))\n",
        "train_data = df.iloc[:train_size].values\n",
        "test_data = df.iloc[train_size:].values\n",
        "\n",
        "# Split the input and output variables\n",
        "train_X, train_y = train_data[:, :-1].astype(np.float32), train_data[:, -1].astype(np.float32)\n",
        "test_X, test_y = test_data[:, :-1].astype(np.float32), test_data[:, -1].astype(np.float32)\n",
        "\n",
        "# Build the model\n",
        "model = tf.keras.Sequential([\n",
        "  tf.keras.layers.Dense(16, activation='relu', input_shape=(train_X.shape[1],)),\n",
        "  tf.keras.layers.Dense(8, activation='relu'),\n",
        "  tf.keras.layers.Dense(1)\n",
        "])\n",
        "\n",
        "# Compile the model\n",
        "model.compile(loss='mse', optimizer='adam')\n",
        "\n",
        "# Train the model\n",
        "model.fit(train_X, train_y, epochs=50, batch_size=32, validation_data=(test_X, test_y))\n"
      ],
      "metadata": {
        "colab": {
          "base_uri": "https://localhost:8080/"
        },
        "id": "IMCT0uUT5rF3",
        "outputId": "64462b44-ae11-4d1c-86fa-257e91b17235"
      },
      "execution_count": 8,
      "outputs": [
        {
          "output_type": "stream",
          "name": "stdout",
          "text": [
            "Epoch 1/50\n",
            "1/1 [==============================] - 1s 1s/step - loss: 1.3179 - val_loss: 1.6641\n",
            "Epoch 2/50\n",
            "1/1 [==============================] - 0s 42ms/step - loss: 1.2629 - val_loss: 1.6007\n",
            "Epoch 3/50\n",
            "1/1 [==============================] - 0s 40ms/step - loss: 1.2089 - val_loss: 1.5393\n",
            "Epoch 4/50\n",
            "1/1 [==============================] - 0s 45ms/step - loss: 1.1568 - val_loss: 1.4805\n",
            "Epoch 5/50\n",
            "1/1 [==============================] - 0s 44ms/step - loss: 1.1065 - val_loss: 1.4239\n",
            "Epoch 6/50\n",
            "1/1 [==============================] - 0s 41ms/step - loss: 1.0579 - val_loss: 1.3701\n",
            "Epoch 7/50\n",
            "1/1 [==============================] - 0s 44ms/step - loss: 1.0109 - val_loss: 1.3070\n",
            "Epoch 8/50\n",
            "1/1 [==============================] - 0s 44ms/step - loss: 0.9657 - val_loss: 1.2429\n",
            "Epoch 9/50\n",
            "1/1 [==============================] - 0s 43ms/step - loss: 0.9204 - val_loss: 1.1810\n",
            "Epoch 10/50\n",
            "1/1 [==============================] - 0s 41ms/step - loss: 0.8754 - val_loss: 1.1213\n",
            "Epoch 11/50\n",
            "1/1 [==============================] - 0s 38ms/step - loss: 0.8306 - val_loss: 1.0639\n",
            "Epoch 12/50\n",
            "1/1 [==============================] - 0s 41ms/step - loss: 0.7875 - val_loss: 1.0209\n",
            "Epoch 13/50\n",
            "1/1 [==============================] - 0s 45ms/step - loss: 0.7460 - val_loss: 0.9810\n",
            "Epoch 14/50\n",
            "1/1 [==============================] - 0s 39ms/step - loss: 0.7061 - val_loss: 0.9437\n",
            "Epoch 15/50\n",
            "1/1 [==============================] - 0s 42ms/step - loss: 0.6685 - val_loss: 0.9064\n",
            "Epoch 16/50\n",
            "1/1 [==============================] - 0s 38ms/step - loss: 0.6333 - val_loss: 0.8694\n",
            "Epoch 17/50\n",
            "1/1 [==============================] - 0s 50ms/step - loss: 0.5999 - val_loss: 0.8331\n",
            "Epoch 18/50\n",
            "1/1 [==============================] - 0s 39ms/step - loss: 0.5681 - val_loss: 0.7958\n",
            "Epoch 19/50\n",
            "1/1 [==============================] - 0s 41ms/step - loss: 0.5377 - val_loss: 0.7556\n",
            "Epoch 20/50\n",
            "1/1 [==============================] - 0s 44ms/step - loss: 0.5089 - val_loss: 0.7172\n",
            "Epoch 21/50\n",
            "1/1 [==============================] - 0s 40ms/step - loss: 0.4820 - val_loss: 0.6806\n",
            "Epoch 22/50\n",
            "1/1 [==============================] - 0s 45ms/step - loss: 0.4569 - val_loss: 0.6459\n",
            "Epoch 23/50\n",
            "1/1 [==============================] - 0s 41ms/step - loss: 0.4340 - val_loss: 0.6126\n",
            "Epoch 24/50\n",
            "1/1 [==============================] - 0s 48ms/step - loss: 0.4125 - val_loss: 0.5788\n",
            "Epoch 25/50\n",
            "1/1 [==============================] - 0s 39ms/step - loss: 0.3927 - val_loss: 0.5454\n",
            "Epoch 26/50\n",
            "1/1 [==============================] - 0s 43ms/step - loss: 0.3738 - val_loss: 0.5130\n",
            "Epoch 27/50\n",
            "1/1 [==============================] - 0s 45ms/step - loss: 0.3558 - val_loss: 0.4819\n",
            "Epoch 28/50\n",
            "1/1 [==============================] - 0s 46ms/step - loss: 0.3388 - val_loss: 0.4524\n",
            "Epoch 29/50\n",
            "1/1 [==============================] - 0s 47ms/step - loss: 0.3231 - val_loss: 0.4254\n",
            "Epoch 30/50\n",
            "1/1 [==============================] - 0s 41ms/step - loss: 0.3086 - val_loss: 0.4008\n",
            "Epoch 31/50\n",
            "1/1 [==============================] - 0s 44ms/step - loss: 0.2949 - val_loss: 0.3785\n",
            "Epoch 32/50\n",
            "1/1 [==============================] - 0s 40ms/step - loss: 0.2822 - val_loss: 0.3579\n",
            "Epoch 33/50\n",
            "1/1 [==============================] - 0s 38ms/step - loss: 0.2702 - val_loss: 0.3392\n",
            "Epoch 34/50\n",
            "1/1 [==============================] - 0s 41ms/step - loss: 0.2591 - val_loss: 0.3220\n",
            "Epoch 35/50\n",
            "1/1 [==============================] - 0s 49ms/step - loss: 0.2488 - val_loss: 0.3065\n",
            "Epoch 36/50\n",
            "1/1 [==============================] - 0s 45ms/step - loss: 0.2393 - val_loss: 0.2925\n",
            "Epoch 37/50\n",
            "1/1 [==============================] - 0s 62ms/step - loss: 0.2304 - val_loss: 0.2797\n",
            "Epoch 38/50\n",
            "1/1 [==============================] - 0s 70ms/step - loss: 0.2222 - val_loss: 0.2682\n",
            "Epoch 39/50\n",
            "1/1 [==============================] - 0s 41ms/step - loss: 0.2145 - val_loss: 0.2579\n",
            "Epoch 40/50\n",
            "1/1 [==============================] - 0s 41ms/step - loss: 0.2074 - val_loss: 0.2486\n",
            "Epoch 41/50\n",
            "1/1 [==============================] - 0s 42ms/step - loss: 0.2007 - val_loss: 0.2402\n",
            "Epoch 42/50\n",
            "1/1 [==============================] - 0s 44ms/step - loss: 0.1945 - val_loss: 0.2327\n",
            "Epoch 43/50\n",
            "1/1 [==============================] - 0s 44ms/step - loss: 0.1884 - val_loss: 0.2260\n",
            "Epoch 44/50\n",
            "1/1 [==============================] - 0s 38ms/step - loss: 0.1827 - val_loss: 0.2199\n",
            "Epoch 45/50\n",
            "1/1 [==============================] - 0s 44ms/step - loss: 0.1774 - val_loss: 0.2143\n",
            "Epoch 46/50\n",
            "1/1 [==============================] - 0s 44ms/step - loss: 0.1724 - val_loss: 0.2087\n",
            "Epoch 47/50\n",
            "1/1 [==============================] - 0s 47ms/step - loss: 0.1679 - val_loss: 0.2030\n",
            "Epoch 48/50\n",
            "1/1 [==============================] - 0s 62ms/step - loss: 0.1639 - val_loss: 0.1974\n",
            "Epoch 49/50\n",
            "1/1 [==============================] - 0s 44ms/step - loss: 0.1600 - val_loss: 0.1920\n",
            "Epoch 50/50\n",
            "1/1 [==============================] - 0s 40ms/step - loss: 0.1563 - val_loss: 0.1864\n"
          ]
        },
        {
          "output_type": "execute_result",
          "data": {
            "text/plain": [
              "<keras.callbacks.History at 0x7f2ac81222e0>"
            ]
          },
          "metadata": {},
          "execution_count": 8
        }
      ]
    },
    {
      "cell_type": "markdown",
      "source": [
        "#7. Perform Validation"
      ],
      "metadata": {
        "id": "LY6MzkqR3EcU"
      }
    },
    {
      "cell_type": "code",
      "source": [
        "# Load the validation data from the CSV file\n",
        "validation_data = pd.read_csv('/content/drive/MyDrive/Colab Notebooks/Container_Crane_Controller_Data_Set.csv', delimiter=';')\n",
        "\n",
        "# Replace commas with periods in the \"Power\" column\n",
        "validation_data['Power'] = validation_data['Power'].str.replace(',', '.')\n",
        "\n",
        "# Split the input and output variables\n",
        "validation_X, validation_y = validation_data.iloc[:, :-1].astype(np.float32), validation_data.iloc[:, -1].astype(np.float32)\n",
        "\n",
        "# Make predictions on the validation data\n",
        "predictions = model.predict(validation_X)\n",
        "\n",
        "# Print the predictions\n",
        "print(predictions)"
      ],
      "metadata": {
        "colab": {
          "base_uri": "https://localhost:8080/"
        },
        "id": "OQDBj0VM4Txx",
        "outputId": "8c4ffffd-1713-4ab0-a01f-21ae58af2f4a"
      },
      "execution_count": 10,
      "outputs": [
        {
          "output_type": "stream",
          "name": "stdout",
          "text": [
            "1/1 [==============================] - 0s 141ms/step\n",
            "[[-0.11156829]\n",
            " [-0.05678333]\n",
            " [ 0.3727844 ]\n",
            " [-0.02022651]\n",
            " [ 0.09920772]\n",
            " [ 0.8433718 ]\n",
            " [ 0.26534742]\n",
            " [ 0.7340681 ]\n",
            " [ 0.20788082]\n",
            " [ 0.39904746]\n",
            " [ 1.1300279 ]\n",
            " [ 0.31588557]\n",
            " [ 1.0332074 ]\n",
            " [ 0.22039033]\n",
            " [ 0.62392753]]\n"
          ]
        }
      ]
    },
    {
      "cell_type": "markdown",
      "source": [
        "#8. Report Accuracy of your trained ML Model"
      ],
      "metadata": {
        "id": "G68BwWxL6aeY"
      }
    },
    {
      "cell_type": "code",
      "source": [
        "from sklearn.metrics import mean_squared_error\n",
        "\n",
        "mse = mean_squared_error(validation_y, predictions)\n",
        "rmse = np.sqrt(mse)\n",
        "print(\"MSE: {:.2f}\".format(mse))\n",
        "print(\"RMSE: {:.2f}\".format(rmse))"
      ],
      "metadata": {
        "colab": {
          "base_uri": "https://localhost:8080/"
        },
        "id": "CUb6kNWf6xS_",
        "outputId": "3ebe85be-6eaf-43ab-a192-e0fcb1bddaa8"
      },
      "execution_count": 12,
      "outputs": [
        {
          "output_type": "stream",
          "name": "stdout",
          "text": [
            "MSE: 0.16\n",
            "RMSE: 0.40\n"
          ]
        }
      ]
    }
  ]
}