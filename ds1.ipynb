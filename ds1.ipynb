{
  "nbformat": 4,
  "nbformat_minor": 0,
  "metadata": {
    "colab": {
      "provenance": [],
      "mount_file_id": "1sm9uV-Qq1KP9E7oihK4xUcOWGSwkdRGk",
      "authorship_tag": "ABX9TyMZ4i3joRsD3WjMtcHxr3f3",
      "include_colab_link": true
    },
    "kernelspec": {
      "name": "python3",
      "display_name": "Python 3"
    },
    "language_info": {
      "name": "python"
    }
  },
  "cells": [
    {
      "cell_type": "markdown",
      "metadata": {
        "id": "view-in-github",
        "colab_type": "text"
      },
      "source": [
        "<a href=\"https://colab.research.google.com/github/Vishal-1802/DS_PY_Writeups_-2001607-/blob/main/ds1.ipynb\" target=\"_parent\"><img src=\"https://colab.research.google.com/assets/colab-badge.svg\" alt=\"Open In Colab\"/></a>"
      ]
    },
    {
      "cell_type": "markdown",
      "source": [
        "#What is uncertainty ?\n",
        "\n",
        "-Uncertainty refers to a lack of knowledge, predictability, or certainty about a particular event, outcome, or situation. It is a state of not being able to accurately determine or predict what will happen in the future or what the true state of something is. Uncertainty can arise from various sources, including incomplete information, complex systems, randomness, and ambiguity.\n",
        "\n",
        "Uncertainty is a common aspect of many fields, including science, economics, finance, decision-making, and everyday life. In science, for example, there may be uncertainty about the results of an experiment due to measurement errors or the inherent variability of natural processes. In economics and finance, uncertainty can influence investment decisions and financial markets when future economic conditions are uncertain. In decision-making, individuals or organizations may have to make choices with incomplete information, leading to uncertain outcomes.\n",
        "\n",
        "In statistics and probability theory, uncertainty is often quantified using measures like probability distributions, confidence intervals, and standard deviations. These measures provide a way to describe the range of possible outcomes and their likelihood based on available information.\n",
        "\n",
        "Dealing with uncertainty is a fundamental challenge for individuals and societies alike. Strategies to cope with uncertainty often involve risk analysis, contingency planning, scenario analysis, and adaptive approaches to adjust to changing circumstances. Embracing uncertainty can also lead to openness to new possibilities and a willingness to learn and adapt in the face of unpredictable situations.\n",
        "\n",
        "\n",
        "\n",
        "\n",
        "\n"
      ],
      "metadata": {
        "id": "k9Z8BJRjomCS"
      }
    },
    {
      "cell_type": "markdown",
      "source": [
        "#What is conditional Proabability ?\n",
        "-Conditional probability is a fundamental component of Bayes' theorem, a powerful mathematical formula used for updating probabilities based on new evidence or information. In the context of Bayes' theorem, conditional probability is used to determine the probability of an event occurring given that another related event has already occurred.\n",
        "\n",
        "In Bayes' theorem, we have two events: A (the \"hypothesis\" or the event we are interested in) and B (the \"evidence\" or the event that has already occurred). The conditional probability of A given B is denoted as P(A|B) and is calculated using the following formula:\n",
        "\n",
        "P(A|B) = (P(B|A) * P(A)) / P(B)\n",
        "\n",
        "where:\n",
        "\n",
        "P(A|B) is the conditional probability of event A given event B (the probability of the hypothesis being true given the evidence).\n",
        "P(B|A) is the conditional probability of event B given event A (the probability of the evidence occurring given that the hypothesis is true).\n",
        "P(A) is the probability of event A (prior probability of the hypothesis).\n",
        "P(B) is the probability of event B (prior probability of the evidence).\n",
        "In words, Bayes' theorem allows us to calculate the probability of the hypothesis being true (P(A|B)) given the observed evidence (P(B)) and how likely the evidence is under the assumption that the hypothesis is true (P(B|A)).\n",
        "\n",
        "This theorem is particularly useful in situations where we have prior beliefs or probabilities and want to update them with new data or evidence. It is widely used in various fields, including statistics, machine learning, artificial intelligence, and data analysis, to make inferences and predictions based on observed data. Bayes' theorem plays a crucial role in Bayesian statistics, which is a branch of statistics that uses probability to update beliefs in light of new evidence.\n",
        "\n",
        "\n",
        "\n",
        "\n"
      ],
      "metadata": {
        "id": "BWOLTMKPp19B"
      }
    },
    {
      "cell_type": "markdown",
      "source": [
        "#What is Bayes Theorem ?\n",
        "-Bayes' theorem, named after the Reverend Thomas Bayes, is a fundamental concept in probability theory and statistics. It provides a way to update the probability of a hypothesis (an event or proposition) based on new evidence or data. In other words, it allows us to calculate the probability of an event occurring, taking into account the probability of related events or observations.\n",
        "\n",
        "The theorem is represented by the following formula:\n",
        "\n",
        "P(A|B) = (P(B|A) * P(A)) / P(B)\n",
        "\n",
        "where:\n",
        "\n",
        "P(A|B) is the conditional probability of event A given event B (the probability of the hypothesis being true given the evidence).\n",
        "P(B|A) is the conditional probability of event B given event A (the probability of the evidence occurring given that the hypothesis is true).\n",
        "P(A) is the probability of event A (prior probability of the hypothesis).\n",
        "P(B) is the probability of event B (prior probability of the evidence).\n",
        "In simple terms, Bayes' theorem states that the probability of A being true, given the evidence B, is proportional to the probability of B being true, given A, multiplied by the prior probability of A, divided by the prior probability of B.\n",
        "\n",
        "Bayes' theorem is particularly useful in situations where we have some initial knowledge or beliefs about the likelihood of an event, and we want to update those beliefs with new observations or evidence. It is widely used in various fields, including machine learning, artificial intelligence, medical diagnosis, spam filtering, and data analysis.\n",
        "\n",
        "Bayesian statistics, a branch of statistics, is based on the principles of Bayes' theorem. It provides a framework for incorporating prior information and updating probabilities as new data becomes available. Bayesian methods are especially valuable when dealing with small data sets or when there is uncertainty in the estimates of parameters."
      ],
      "metadata": {
        "id": "YPP9jmghp3zA"
      }
    },
    {
      "cell_type": "markdown",
      "source": [
        "#What are Belief Networks ?\n",
        "-Belief Networks, also known as Bayesian Networks or Bayes Nets, are probabilistic graphical models that represent the dependencies between random variables using a directed acyclic graph (DAG). They are a type of graphical model that applies principles from probability theory and graph theory to model complex relationships among variables and make probabilistic inferences.\n",
        "\n",
        "In a Belief Network, each node in the graph represents a random variable, and the directed edges (arcs) between nodes represent the probabilistic dependencies between these variables. If there is a directed edge from node A to node B, it indicates that variable B is conditionally dependent on variable A. In other words, the value of variable A influences the probability distribution of variable B.\n",
        "\n",
        "The conditional probabilities of each node given its parent nodes (variables that directly influence it) are represented in conditional probability tables (CPTs). These tables store the probabilities that describe how each variable depends on its parent variables.\n",
        "\n",
        "Belief Networks are particularly useful for reasoning under uncertainty and making probabilistic inferences. Given evidence about some of the variables in the network, they can be used to calculate the posterior probabilities of other variables. This is done using Bayes' theorem and the information stored in the CPTs.\n",
        "\n",
        "Applications of Belief Networks include:\n",
        "\n",
        "Medical diagnosis: Modeling the probabilities of various medical conditions given observed symptoms.\n",
        "Risk assessment: Assessing the probabilities of specific events or outcomes based on available data.\n",
        "Natural language processing: Modeling the relationships between words or concepts in a language.\n",
        "Decision support systems: Helping in decision-making by quantifying uncertainties and risks.\n",
        "Belief Networks provide a powerful tool for representing complex probabilistic relationships in a structured and intuitive manner, making them valuable for a wide range of applications in artificial intelligence, machine learning, and data analysis."
      ],
      "metadata": {
        "id": "mGAoivHgp3hX"
      }
    },
    {
      "cell_type": "code",
      "source": [
        "!pip install probability"
      ],
      "metadata": {
        "colab": {
          "base_uri": "https://localhost:8080/"
        },
        "id": "yStwkMYVBLmT",
        "outputId": "4a357440-e9b3-4c5c-d31d-b82fcc7a94e6"
      },
      "execution_count": 3,
      "outputs": [
        {
          "output_type": "stream",
          "name": "stdout",
          "text": [
            "Collecting probability\n",
            "  Downloading probability-0.0.161.tar.gz (120 kB)\n",
            "\u001b[?25l     \u001b[90m━━━━━━━━━━━━━━━━━━━━━━━━━━━━━━━━━━━━━━━━\u001b[0m \u001b[32m0.0/120.0 kB\u001b[0m \u001b[31m?\u001b[0m eta \u001b[36m-:--:--\u001b[0m\r\u001b[2K     \u001b[91m━━━━━━━━━━━━━━━━━━━━\u001b[0m\u001b[90m╺\u001b[0m\u001b[90m━━━━━━━━━━━━━━━━━━━\u001b[0m \u001b[32m61.4/120.0 kB\u001b[0m \u001b[31m1.7 MB/s\u001b[0m eta \u001b[36m0:00:01\u001b[0m\r\u001b[2K     \u001b[90m━━━━━━━━━━━━━━━━━━━━━━━━━━━━━━━━━━━━━━━\u001b[0m \u001b[32m120.0/120.0 kB\u001b[0m \u001b[31m2.2 MB/s\u001b[0m eta \u001b[36m0:00:00\u001b[0m\n",
            "\u001b[?25h  Preparing metadata (setup.py) ... \u001b[?25l\u001b[?25hdone\n",
            "Requirement already satisfied: matplotlib in /usr/local/lib/python3.10/dist-packages (from probability) (3.7.1)\n",
            "Collecting mpl-format (from probability)\n",
            "  Downloading mpl_format-0.318.tar.gz (52 kB)\n",
            "\u001b[2K     \u001b[90m━━━━━━━━━━━━━━━━━━━━━━━━━━━━━━━━━━━━━━━━\u001b[0m \u001b[32m52.6/52.6 kB\u001b[0m \u001b[31m5.1 MB/s\u001b[0m eta \u001b[36m0:00:00\u001b[0m\n",
            "\u001b[?25h  Preparing metadata (setup.py) ... \u001b[?25l\u001b[?25hdone\n",
            "Requirement already satisfied: networkx in /usr/local/lib/python3.10/dist-packages (from probability) (3.1)\n",
            "Requirement already satisfied: numba in /usr/local/lib/python3.10/dist-packages (from probability) (0.56.4)\n",
            "Requirement already satisfied: numpy in /usr/local/lib/python3.10/dist-packages (from probability) (1.22.4)\n",
            "Requirement already satisfied: pandas in /usr/local/lib/python3.10/dist-packages (from probability) (1.5.3)\n",
            "Requirement already satisfied: scipy in /usr/local/lib/python3.10/dist-packages (from probability) (1.10.1)\n",
            "Requirement already satisfied: seaborn in /usr/local/lib/python3.10/dist-packages (from probability) (0.12.2)\n",
            "Requirement already satisfied: setuptools in /usr/local/lib/python3.10/dist-packages (from probability) (67.7.2)\n",
            "Requirement already satisfied: tqdm in /usr/local/lib/python3.10/dist-packages (from probability) (4.65.0)\n",
            "Requirement already satisfied: contourpy>=1.0.1 in /usr/local/lib/python3.10/dist-packages (from matplotlib->probability) (1.1.0)\n",
            "Requirement already satisfied: cycler>=0.10 in /usr/local/lib/python3.10/dist-packages (from matplotlib->probability) (0.11.0)\n",
            "Requirement already satisfied: fonttools>=4.22.0 in /usr/local/lib/python3.10/dist-packages (from matplotlib->probability) (4.41.1)\n",
            "Requirement already satisfied: kiwisolver>=1.0.1 in /usr/local/lib/python3.10/dist-packages (from matplotlib->probability) (1.4.4)\n",
            "Requirement already satisfied: packaging>=20.0 in /usr/local/lib/python3.10/dist-packages (from matplotlib->probability) (23.1)\n",
            "Requirement already satisfied: pillow>=6.2.0 in /usr/local/lib/python3.10/dist-packages (from matplotlib->probability) (9.4.0)\n",
            "Requirement already satisfied: pyparsing>=2.3.1 in /usr/local/lib/python3.10/dist-packages (from matplotlib->probability) (3.1.0)\n",
            "Requirement already satisfied: python-dateutil>=2.7 in /usr/local/lib/python3.10/dist-packages (from matplotlib->probability) (2.8.2)\n",
            "Collecting celluloid (from mpl-format->probability)\n",
            "  Downloading celluloid-0.2.0-py3-none-any.whl (5.4 kB)\n",
            "Requirement already satisfied: llvmlite<0.40,>=0.39.0dev0 in /usr/local/lib/python3.10/dist-packages (from numba->probability) (0.39.1)\n",
            "Requirement already satisfied: pytz>=2020.1 in /usr/local/lib/python3.10/dist-packages (from pandas->probability) (2022.7.1)\n",
            "Requirement already satisfied: six>=1.5 in /usr/local/lib/python3.10/dist-packages (from python-dateutil>=2.7->matplotlib->probability) (1.16.0)\n",
            "Building wheels for collected packages: probability, mpl-format\n",
            "  Building wheel for probability (setup.py) ... \u001b[?25l\u001b[?25hdone\n",
            "  Created wheel for probability: filename=probability-0.0.161-py3-none-any.whl size=229548 sha256=dc0dddffd19d9b3dd784b6665354753972297e9678043f796e9b80d275e6388d\n",
            "  Stored in directory: /root/.cache/pip/wheels/12/83/a7/a5adbec2f05fbd005376454b3d08ecfd8e0b3b4101279dbe67\n",
            "  Building wheel for mpl-format (setup.py) ... \u001b[?25l\u001b[?25hdone\n",
            "  Created wheel for mpl-format: filename=mpl_format-0.318-py3-none-any.whl size=74876 sha256=d651f7b6d4972c890dd5e0d0ea9de20fd80f3eecbaa45e33aa9b3882c22cad7b\n",
            "  Stored in directory: /root/.cache/pip/wheels/f4/c3/ab/7c90766ecfd156c37a52d606991b7be60caaf4ea7b654cebfc\n",
            "Successfully built probability mpl-format\n",
            "Installing collected packages: celluloid, mpl-format, probability\n",
            "Successfully installed celluloid-0.2.0 mpl-format-0.318 probability-0.0.161\n"
          ]
        }
      ]
    },
    {
      "cell_type": "code",
      "source": [
        "!pip install utils\n",
        "!apt install pseudocode"
      ],
      "metadata": {
        "colab": {
          "base_uri": "https://localhost:8080/"
        },
        "id": "sSBTBO6PBaup",
        "outputId": "b8c3df94-355e-4f8a-c6fb-6e809c8e0cd8"
      },
      "execution_count": 4,
      "outputs": [
        {
          "output_type": "stream",
          "name": "stdout",
          "text": [
            "Collecting utils\n",
            "  Downloading utils-1.0.1-py2.py3-none-any.whl (21 kB)\n",
            "Installing collected packages: utils\n",
            "Successfully installed utils-1.0.1\n",
            "Reading package lists... Done\n",
            "Building dependency tree... Done\n",
            "Reading state information... Done\n",
            "\u001b[1;31mE: \u001b[0mUnable to locate package pseudocode\u001b[0m\n"
          ]
        }
      ]
    },
    {
      "cell_type": "code",
      "source": [
        "psource(ProbDist)"
      ],
      "metadata": {
        "colab": {
          "base_uri": "https://localhost:8080/"
        },
        "id": "Wj_lQSecDkl4",
        "outputId": "27a831bd-1dda-4671-e540-3e185636cae5"
      },
      "execution_count": 5,
      "outputs": [
        {
          "output_type": "stream",
          "name": "stdout",
          "text": [
            "Object `(ProbDist)` not found.\n"
          ]
        }
      ]
    },
    {
      "cell_type": "code",
      "source": [
        "class ProbDist:\n",
        "    \"\"\"A discrete probability distribution. You name the random variable\n",
        "    in the constructor, then assign and query probability of values.\n",
        "    >>> P = ProbDist('Flip'); P['H'], P['T'] = 0.25, 0.75; P['H']\n",
        "    0.25\n",
        "    >>> P = ProbDist('X', {'lo': 125, 'med': 375, 'hi': 500})\n",
        "    >>> P['lo'], P['med'], P['hi']\n",
        "    (0.125, 0.375, 0.5)\n",
        "    \"\"\"\n",
        "\n",
        "    def __init__(self, varname='?', freqs=None):\n",
        "        \"\"\"If freqs is given, it is a dictionary of values - frequency pairs,\n",
        "        then ProbDist is normalized.\"\"\"\n",
        "        self.prob = {}\n",
        "        self.varname = varname\n",
        "        self.values = []\n",
        "        if freqs:\n",
        "            for (v, p) in freqs.items():\n",
        "                self[v] = p\n",
        "            self.normalize()\n",
        "\n",
        "    def __getitem__(self, val):\n",
        "        \"\"\"Given a value, return P(value).\"\"\"\n",
        "        try:\n",
        "            return self.prob[val]\n",
        "        except KeyError:\n",
        "            return 0\n",
        "\n",
        "    def __setitem__(self, val, p):\n",
        "        \"\"\"Set P(val) = p.\"\"\"\n",
        "        if val not in self.values:\n",
        "            self.values.append(val)\n",
        "        self.prob[val] = p\n",
        "\n",
        "    def normalize(self):\n",
        "        \"\"\"Make sure the probabilities of all values sum to 1.\n",
        "        Returns the normalized distribution.\n",
        "        Raises a ZeroDivisionError if the sum of the values is 0.\"\"\"\n",
        "        total = sum(self.prob.values())\n",
        "        if not isclose(total, 1.0):\n",
        "            for val in self.prob:\n",
        "                self.prob[val] /= total\n",
        "        return self\n",
        "\n",
        "    def show_approx(self, numfmt='{:.3g}'):\n",
        "        \"\"\"Show the probabilities rounded and sorted by key, for the\n",
        "        sake of portable doctests.\"\"\"\n",
        "        return ', '.join([('{}: ' + numfmt).format(v, p)\n",
        "                          for (v, p) in sorted(self.prob.items())])\n",
        "\n",
        "    def __repr__(self):\n",
        "        return \"P({})\".format(self.varname)\n"
      ],
      "metadata": {
        "id": "3jx-yNnBDt3w"
      },
      "execution_count": 6,
      "outputs": []
    },
    {
      "cell_type": "code",
      "source": [
        "p = ProbDist('Flip')\n",
        "p['H'], p['T'] = 0.25, 0.75\n",
        "p['T']"
      ],
      "metadata": {
        "colab": {
          "base_uri": "https://localhost:8080/"
        },
        "id": "eJXdl-66DyY3",
        "outputId": "c7bcdac4-84d5-43c0-eca0-84b109854225"
      },
      "execution_count": 7,
      "outputs": [
        {
          "output_type": "execute_result",
          "data": {
            "text/plain": [
              "0.75"
            ]
          },
          "metadata": {},
          "execution_count": 7
        }
      ]
    },
    {
      "cell_type": "code",
      "source": [
        "from math import isclose\n",
        "\n",
        "# Now you can create the probability distribution object\n",
        "p = ProbDist(freqs={'low': 125, 'medium': 375, 'high': 500})\n",
        "p.varname"
      ],
      "metadata": {
        "colab": {
          "base_uri": "https://localhost:8080/",
          "height": 36
        },
        "id": "iViY_YpYFnhm",
        "outputId": "351c3c65-491b-4bdb-cdc9-3979b83e1e3d"
      },
      "execution_count": 8,
      "outputs": [
        {
          "output_type": "execute_result",
          "data": {
            "text/plain": [
              "'?'"
            ],
            "application/vnd.google.colaboratory.intrinsic+json": {
              "type": "string"
            }
          },
          "metadata": {},
          "execution_count": 8
        }
      ]
    },
    {
      "cell_type": "code",
      "source": [
        "(p['low'], p['medium'], p['high'])"
      ],
      "metadata": {
        "colab": {
          "base_uri": "https://localhost:8080/"
        },
        "id": "tTbCFM87GnH2",
        "outputId": "26cbb52e-caec-449b-d3a4-1a924ab7a9d6"
      },
      "execution_count": 9,
      "outputs": [
        {
          "output_type": "execute_result",
          "data": {
            "text/plain": [
              "(0.125, 0.375, 0.5)"
            ]
          },
          "metadata": {},
          "execution_count": 9
        }
      ]
    },
    {
      "cell_type": "code",
      "source": [
        "p.values"
      ],
      "metadata": {
        "colab": {
          "base_uri": "https://localhost:8080/"
        },
        "id": "jkSbLW1EIBQ2",
        "outputId": "d9279e05-7c73-4f84-bfcf-862c14786fed"
      },
      "execution_count": 10,
      "outputs": [
        {
          "output_type": "execute_result",
          "data": {
            "text/plain": [
              "['low', 'medium', 'high']"
            ]
          },
          "metadata": {},
          "execution_count": 10
        }
      ]
    },
    {
      "cell_type": "code",
      "source": [
        "p = ProbDist('Y')\n",
        "p['Cat'] = 50\n",
        "p['Dog'] = 114\n",
        "p['Mice'] = 64\n",
        "(p['Cat'], p['Dog'], p['Mice'])"
      ],
      "metadata": {
        "colab": {
          "base_uri": "https://localhost:8080/"
        },
        "id": "ERvEwaH0IKk0",
        "outputId": "dab3caee-1441-4465-d5c5-c7afc8d2839e"
      },
      "execution_count": 11,
      "outputs": [
        {
          "output_type": "execute_result",
          "data": {
            "text/plain": [
              "(50, 114, 64)"
            ]
          },
          "metadata": {},
          "execution_count": 11
        }
      ]
    },
    {
      "cell_type": "code",
      "source": [
        "p.normalize()\n",
        "(p['Cat'], p['Dog'], p['Mice'])"
      ],
      "metadata": {
        "colab": {
          "base_uri": "https://localhost:8080/"
        },
        "id": "dd2R_TqbIN1W",
        "outputId": "3f0d6b5f-a056-438f-d619-f4bff3382294"
      },
      "execution_count": 12,
      "outputs": [
        {
          "output_type": "execute_result",
          "data": {
            "text/plain": [
              "(0.21929824561403508, 0.5, 0.2807017543859649)"
            ]
          },
          "metadata": {},
          "execution_count": 12
        }
      ]
    },
    {
      "cell_type": "code",
      "source": [
        "(0.21929824561403508, 0.5, 0.2807017543859649)"
      ],
      "metadata": {
        "colab": {
          "base_uri": "https://localhost:8080/"
        },
        "id": "qZIx92ySLpFq",
        "outputId": "ffe814c5-c883-4805-f983-2da89607da34"
      },
      "execution_count": 13,
      "outputs": [
        {
          "output_type": "execute_result",
          "data": {
            "text/plain": [
              "(0.21929824561403508, 0.5, 0.2807017543859649)"
            ]
          },
          "metadata": {},
          "execution_count": 13
        }
      ]
    },
    {
      "cell_type": "code",
      "source": [
        "p.show_approx()"
      ],
      "metadata": {
        "colab": {
          "base_uri": "https://localhost:8080/",
          "height": 36
        },
        "id": "4ifQYM24LuU4",
        "outputId": "5b9c0c1c-14e2-490c-99a9-cbc0d9b5e6eb"
      },
      "execution_count": 14,
      "outputs": [
        {
          "output_type": "execute_result",
          "data": {
            "text/plain": [
              "'Cat: 0.219, Dog: 0.5, Mice: 0.281'"
            ],
            "application/vnd.google.colaboratory.intrinsic+json": {
              "type": "string"
            }
          },
          "metadata": {},
          "execution_count": 14
        }
      ]
    },
    {
      "cell_type": "code",
      "source": [
        "def event_values(event, variables):\n",
        "    return [event[var] for var in variables]\n",
        "event = {'A': 10, 'B': 9, 'C': 8}\n",
        "variables = ['C', 'A']\n",
        "event_values(event, variables)"
      ],
      "metadata": {
        "colab": {
          "base_uri": "https://localhost:8080/"
        },
        "id": "uNH7P0SbLuan",
        "outputId": "32bcea29-3122-49e1-d7d3-48363661b7fa"
      },
      "execution_count": 15,
      "outputs": [
        {
          "output_type": "execute_result",
          "data": {
            "text/plain": [
              "[8, 10]"
            ]
          },
          "metadata": {},
          "execution_count": 15
        }
      ]
    },
    {
      "cell_type": "code",
      "source": [
        "psource(JointProbDist)"
      ],
      "metadata": {
        "colab": {
          "base_uri": "https://localhost:8080/"
        },
        "id": "kWtDGX5qLudh",
        "outputId": "da54af1d-56c8-4923-f6f1-7d2850552c89"
      },
      "execution_count": 16,
      "outputs": [
        {
          "output_type": "stream",
          "name": "stdout",
          "text": [
            "Object `(JointProbDist)` not found.\n"
          ]
        }
      ]
    },
    {
      "cell_type": "code",
      "source": [
        "class JointProbDist(ProbDist):\n",
        "    \"\"\"A discrete probability distribute over a set of variables.\n",
        "    >>> P = JointProbDist(['X', 'Y']); P[1, 1] = 0.25\n",
        "    >>> P[1, 1]\n",
        "    0.25\n",
        "    >>> P[dict(X=0, Y=1)] = 0.5\n",
        "    >>> P[dict(X=0, Y=1)]\n",
        "    0.5\"\"\"\n",
        "\n",
        "    def __init__(self, variables):\n",
        "        self.prob = {}\n",
        "        self.variables = variables\n",
        "        self.vals = defaultdict(list)\n",
        "\n",
        "    def __getitem__(self, values):\n",
        "        \"\"\"Given a tuple or dict of values, return P(values).\"\"\"\n",
        "        values = event_values(values, self.variables)\n",
        "        return ProbDist.__getitem__(self, values)\n",
        "\n",
        "    def __setitem__(self, values, p):\n",
        "        \"\"\"Set P(values) = p.  Values can be a tuple or a dict; it must\n",
        "        have a value for each of the variables in the joint. Also keep track\n",
        "        of the values we have seen so far for each variable.\"\"\"\n",
        "        values = event_values(values, self.variables)\n",
        "        self.prob[values] = p\n",
        "        for var, val in zip(self.variables, values):\n",
        "            if val not in self.vals[var]:\n",
        "                self.vals[var].append(val)\n",
        "\n",
        "    def values(self, var):\n",
        "        \"\"\"Return the set of possible values for a variable.\"\"\"\n",
        "        return self.vals[var]\n",
        "\n",
        "    def __repr__(self):\n",
        "        return \"P({})\".format(self.variables)"
      ],
      "metadata": {
        "id": "nJYFO9OKLuin"
      },
      "execution_count": 17,
      "outputs": []
    },
    {
      "cell_type": "code",
      "source": [
        "from collections import defaultdict\n",
        "\n",
        "class JointProbDist:\n",
        "    def __init__(self, variables):\n",
        "        self.variables = variables\n",
        "        self.probabilities = defaultdict(float)\n",
        "\n",
        "    def add_probability(self, variable_values, probability):\n",
        "        self.probabilities[tuple(variable_values)] = probability\n",
        "\n",
        "    def get_probability(self, variable_values):\n",
        "        return self.probabilities.get(tuple(variable_values), 0.0)\n",
        "\n",
        "# Example usage:\n",
        "variables = ['X', 'Y']\n",
        "j = JointProbDist(variables)\n",
        "\n",
        "# Add probabilities for variable combinations\n",
        "j.add_probability(['x1', 'y1'], 0.2)\n",
        "j.add_probability(['x1', 'y2'], 0.3)\n",
        "j.add_probability(['x2', 'y1'], 0.1)\n",
        "j.add_probability(['x2', 'y2'], 0.4)\n",
        "\n",
        "# Get probability for a specific combination\n",
        "probability_xy = j.get_probability(['x1', 'y2'])\n",
        "print(probability_xy)"
      ],
      "metadata": {
        "colab": {
          "base_uri": "https://localhost:8080/"
        },
        "id": "oUbIKWe9Lulh",
        "outputId": "314a157a-3d4d-4bc9-ad6b-ed1316dd6718"
      },
      "execution_count": 18,
      "outputs": [
        {
          "output_type": "stream",
          "name": "stdout",
          "text": [
            "0.3\n"
          ]
        }
      ]
    },
    {
      "cell_type": "code",
      "source": [
        "from collections import defaultdict\n",
        "\n",
        "class JointProbDist:\n",
        "    def __init__(self, variables):\n",
        "        self.variables = variables\n",
        "        self.probabilities = defaultdict(float)\n",
        "\n",
        "    def _get_key(self, variable_values):\n",
        "        return tuple(variable_values[var] for var in self.variables)\n",
        "\n",
        "    def set_probability(self, variable_values, probability):\n",
        "        key = self._get_key(variable_values)\n",
        "        self.probabilities[key] = probability\n",
        "\n",
        "    def get_probability(self, variable_values):\n",
        "        key = self._get_key(variable_values)\n",
        "        return self.probabilities.get(key, 0.0)\n",
        "\n",
        "# Example usage:\n",
        "variables = ['X', 'Y']\n",
        "j = JointProbDist(variables)\n",
        "\n",
        "# Set probabilities for variable combinations\n",
        "j.set_probability({'X': 1, 'Y': 1}, 0.2)\n",
        "j.set_probability({'X': 0, 'Y': 1}, 0.5)\n",
        "\n",
        "# Get probabilities for specific combinations\n",
        "probability_1 = j.get_probability({'X': 1, 'Y': 1})\n",
        "probability_2 = j.get_probability({'X': 0, 'Y': 1})\n",
        "print(probability_1, probability_2)\n"
      ],
      "metadata": {
        "colab": {
          "base_uri": "https://localhost:8080/"
        },
        "id": "wxc1hkieLuok",
        "outputId": "2b16f649-92e0-4d98-f0e3-d641e68bf043"
      },
      "execution_count": 19,
      "outputs": [
        {
          "output_type": "stream",
          "name": "stdout",
          "text": [
            "0.2 0.5\n"
          ]
        }
      ]
    },
    {
      "cell_type": "code",
      "source": [
        "from collections import defaultdict\n",
        "\n",
        "class JointProbDist:\n",
        "    def __init__(self, variables):\n",
        "        self.variables = variables\n",
        "        self.probabilities = defaultdict(float)\n",
        "\n",
        "    def _get_key(self, variable_values):\n",
        "        return tuple(variable_values[var] for var in self.variables)\n",
        "\n",
        "    def set_probability(self, variable_values, probability):\n",
        "        key = self._get_key(variable_values)\n",
        "        self.probabilities[key] = probability\n",
        "\n",
        "    def get_probability(self, variable_values):\n",
        "        key = self._get_key(variable_values)\n",
        "        return self.probabilities.get(key, 0.0)\n",
        "\n",
        "# Example usage:\n",
        "variables = ['X', 'Y']\n",
        "j = JointProbDist(variables)\n",
        "\n",
        "# Set probabilities for variable combinations\n",
        "j.set_probability({'X': 1, 'Y': 1}, 0.2)\n",
        "j.set_probability({'X': 0, 'Y': 1}, 0.5)\n",
        "\n",
        "# Get probabilities for specific combinations\n",
        "probability_1 = j.get_probability({'X': 1, 'Y': 1})\n",
        "probability_2 = j.get_probability({'X': 0, 'Y': 1})\n",
        "print(probability_1, probability_2)\n",
        "\n",
        "# Get probabilities for specific variable values\n",
        "value_X_1 = 1\n",
        "probabilities_for_X_1 = {key[1]: j.get_probability({'X': value_X_1, 'Y': key[1]}) for key in j.probabilities.keys() if key[0] == value_X_1}\n",
        "print(probabilities_for_X_1)\n"
      ],
      "metadata": {
        "colab": {
          "base_uri": "https://localhost:8080/"
        },
        "id": "ccNWS05OLure",
        "outputId": "4cd17d55-e73b-4575-e7f1-57965a301cf5"
      },
      "execution_count": 20,
      "outputs": [
        {
          "output_type": "stream",
          "name": "stdout",
          "text": [
            "0.2 0.5\n",
            "{1: 0.2}\n"
          ]
        }
      ]
    },
    {
      "cell_type": "code",
      "source": [
        "class JointProbDist:\n",
        "    def __init__(self, variables):\n",
        "        self.variables = variables\n",
        "        self.probabilities = {}\n",
        "\n",
        "    def _get_key(self, variable_values):\n",
        "        return tuple(variable_values[var] for var in self.variables)\n",
        "\n",
        "    def set_probability(self, variable_values, probability):\n",
        "        key = self._get_key(variable_values)\n",
        "        self.probabilities[key] = probability\n",
        "\n",
        "    def get_probability(self, variable_values):\n",
        "        key = self._get_key(variable_values)\n",
        "        return self.probabilities.get(key, 0.0)\n",
        "\n",
        "# Example usage:\n",
        "variables = ['Cavity', 'Toothache', 'Catch']\n",
        "full_joint = JointProbDist(variables)\n",
        "\n",
        "# Set probabilities for variable combinations\n",
        "full_joint.set_probability({'Cavity': True, 'Toothache': True, 'Catch': True}, 0.108)\n",
        "full_joint.set_probability({'Cavity': True, 'Toothache': True, 'Catch': False}, 0.012)\n",
        "full_joint.set_probability({'Cavity': True, 'Toothache': False, 'Catch': True}, 0.016)\n",
        "full_joint.set_probability({'Cavity': True, 'Toothache': False, 'Catch': False}, 0.064)\n",
        "full_joint.set_probability({'Cavity': False, 'Toothache': True, 'Catch': True}, 0.072)\n",
        "full_joint.set_probability({'Cavity': False, 'Toothache': False, 'Catch': True}, 0.144)\n",
        "full_joint.set_probability({'Cavity': False, 'Toothache': True, 'Catch': False}, 0.008)\n",
        "full_joint.set_probability({'Cavity': False, 'Toothache': False, 'Catch': False}, 0.576)\n",
        "\n",
        "# Get probabilities for specific combinations\n",
        "probability_1 = full_joint.get_probability({'Cavity': True, 'Toothache': True, 'Catch': True})\n",
        "probability_2 = full_joint.get_probability({'Cavity': False, 'Toothache': True, 'Catch': True})\n",
        "print(probability_1, probability_2)"
      ],
      "metadata": {
        "colab": {
          "base_uri": "https://localhost:8080/"
        },
        "id": "Q5h-7L1jLuun",
        "outputId": "538d5d3f-fbe7-40fa-915c-6330dcb88b21"
      },
      "execution_count": 21,
      "outputs": [
        {
          "output_type": "stream",
          "name": "stdout",
          "text": [
            "0.108 0.072\n"
          ]
        }
      ]
    },
    {
      "cell_type": "code",
      "source": [
        "psource(enumerate_joint)"
      ],
      "metadata": {
        "colab": {
          "base_uri": "https://localhost:8080/"
        },
        "id": "BwOj8e5vLuxv",
        "outputId": "f5e97a36-4fd6-4e4d-e398-b2cc0a29d70a"
      },
      "execution_count": 22,
      "outputs": [
        {
          "output_type": "stream",
          "name": "stdout",
          "text": [
            "Object `(enumerate_joint)` not found.\n"
          ]
        }
      ]
    },
    {
      "cell_type": "code",
      "source": [
        "def enumerate_joint(variables, e, P):\n",
        "    \"\"\"Return the sum of those entries in P consistent with e,\n",
        "    provided variables is P's remaining variables (the ones not in e).\"\"\"\n",
        "    if not variables:\n",
        "        return P[e]\n",
        "    Y, rest = variables[0], variables[1:]\n",
        "    return sum([enumerate_joint(rest, extend(e, Y, y), P)\n",
        "                for y in P.values(Y)])"
      ],
      "metadata": {
        "id": "_wbd-e0VLu6H"
      },
      "execution_count": 23,
      "outputs": []
    },
    {
      "cell_type": "code",
      "source": [
        "def extend(e, Y, y):\n",
        "    \"\"\"Helper function to extend the evidence 'e' with variable 'Y' set to value 'y'.\"\"\"\n",
        "    extended_evidence = e + ((Y, y),)\n",
        "    return extended_evidence\n",
        "\n",
        "def enumerate_joint(variables, e, P):\n",
        "    \"\"\"Return the sum of those entries in P consistent with e,\n",
        "    provided variables is P's remaining variables (the ones not in e).\"\"\"\n",
        "    if not variables:\n",
        "        return P[e]\n",
        "    Y, rest = variables[0], variables[1:]\n",
        "    return sum([enumerate_joint(rest, extend(e, Y, y), P)\n",
        "                for y in [True, False]])\n",
        "\n",
        "# Example usage:\n",
        "full_joint = {\n",
        "    (('Cavity', True), ('Toothache', True), ('Catch', True)): 0.108,\n",
        "    (('Cavity', True), ('Toothache', True), ('Catch', False)): 0.012,\n",
        "    (('Cavity', True), ('Toothache', False), ('Catch', True)): 0.016,\n",
        "    (('Cavity', True), ('Toothache', False), ('Catch', False)): 0.064,\n",
        "    (('Cavity', False), ('Toothache', True), ('Catch', True)): 0.072,\n",
        "    (('Cavity', False), ('Toothache', False), ('Catch', True)): 0.144,\n",
        "    (('Cavity', False), ('Toothache', True), ('Catch', False)): 0.008,\n",
        "    (('Cavity', False), ('Toothache', False), ('Catch', False)): 0.576,\n",
        "}\n",
        "\n",
        "evidence = ()\n",
        "variables = [('Cavity', True), ('Catch', True)]  # Represent variables as a list of tuples\n",
        "\n",
        "ans1 = enumerate_joint(variables, tuple(evidence), full_joint)\n",
        "print(ans1)"
      ],
      "metadata": {
        "colab": {
          "base_uri": "https://localhost:8080/",
          "height": 363
        },
        "id": "vt183Q_hLu9N",
        "outputId": "980f29f4-00c8-4106-eb13-2738e7eccec8"
      },
      "execution_count": 24,
      "outputs": [
        {
          "output_type": "error",
          "ename": "KeyError",
          "evalue": "ignored",
          "traceback": [
            "\u001b[0;31m---------------------------------------------------------------------------\u001b[0m",
            "\u001b[0;31mKeyError\u001b[0m                                  Traceback (most recent call last)",
            "\u001b[0;32m<ipython-input-24-5f572acba376>\u001b[0m in \u001b[0;36m<cell line: 30>\u001b[0;34m()\u001b[0m\n\u001b[1;32m     28\u001b[0m \u001b[0mvariables\u001b[0m \u001b[0;34m=\u001b[0m \u001b[0;34m[\u001b[0m\u001b[0;34m(\u001b[0m\u001b[0;34m'Cavity'\u001b[0m\u001b[0;34m,\u001b[0m \u001b[0;32mTrue\u001b[0m\u001b[0;34m)\u001b[0m\u001b[0;34m,\u001b[0m \u001b[0;34m(\u001b[0m\u001b[0;34m'Catch'\u001b[0m\u001b[0;34m,\u001b[0m \u001b[0;32mTrue\u001b[0m\u001b[0;34m)\u001b[0m\u001b[0;34m]\u001b[0m  \u001b[0;31m# Represent variables as a list of tuples\u001b[0m\u001b[0;34m\u001b[0m\u001b[0;34m\u001b[0m\u001b[0m\n\u001b[1;32m     29\u001b[0m \u001b[0;34m\u001b[0m\u001b[0m\n\u001b[0;32m---> 30\u001b[0;31m \u001b[0mans1\u001b[0m \u001b[0;34m=\u001b[0m \u001b[0menumerate_joint\u001b[0m\u001b[0;34m(\u001b[0m\u001b[0mvariables\u001b[0m\u001b[0;34m,\u001b[0m \u001b[0mtuple\u001b[0m\u001b[0;34m(\u001b[0m\u001b[0mevidence\u001b[0m\u001b[0;34m)\u001b[0m\u001b[0;34m,\u001b[0m \u001b[0mfull_joint\u001b[0m\u001b[0;34m)\u001b[0m\u001b[0;34m\u001b[0m\u001b[0;34m\u001b[0m\u001b[0m\n\u001b[0m\u001b[1;32m     31\u001b[0m \u001b[0mprint\u001b[0m\u001b[0;34m(\u001b[0m\u001b[0mans1\u001b[0m\u001b[0;34m)\u001b[0m\u001b[0;34m\u001b[0m\u001b[0;34m\u001b[0m\u001b[0m\n",
            "\u001b[0;32m<ipython-input-24-5f572acba376>\u001b[0m in \u001b[0;36menumerate_joint\u001b[0;34m(variables, e, P)\u001b[0m\n\u001b[1;32m     10\u001b[0m         \u001b[0;32mreturn\u001b[0m \u001b[0mP\u001b[0m\u001b[0;34m[\u001b[0m\u001b[0me\u001b[0m\u001b[0;34m]\u001b[0m\u001b[0;34m\u001b[0m\u001b[0;34m\u001b[0m\u001b[0m\n\u001b[1;32m     11\u001b[0m     \u001b[0mY\u001b[0m\u001b[0;34m,\u001b[0m \u001b[0mrest\u001b[0m \u001b[0;34m=\u001b[0m \u001b[0mvariables\u001b[0m\u001b[0;34m[\u001b[0m\u001b[0;36m0\u001b[0m\u001b[0;34m]\u001b[0m\u001b[0;34m,\u001b[0m \u001b[0mvariables\u001b[0m\u001b[0;34m[\u001b[0m\u001b[0;36m1\u001b[0m\u001b[0;34m:\u001b[0m\u001b[0;34m]\u001b[0m\u001b[0;34m\u001b[0m\u001b[0;34m\u001b[0m\u001b[0m\n\u001b[0;32m---> 12\u001b[0;31m     return sum([enumerate_joint(rest, extend(e, Y, y), P)\n\u001b[0m\u001b[1;32m     13\u001b[0m                 for y in [True, False]])\n\u001b[1;32m     14\u001b[0m \u001b[0;34m\u001b[0m\u001b[0m\n",
            "\u001b[0;32m<ipython-input-24-5f572acba376>\u001b[0m in \u001b[0;36m<listcomp>\u001b[0;34m(.0)\u001b[0m\n\u001b[1;32m     10\u001b[0m         \u001b[0;32mreturn\u001b[0m \u001b[0mP\u001b[0m\u001b[0;34m[\u001b[0m\u001b[0me\u001b[0m\u001b[0;34m]\u001b[0m\u001b[0;34m\u001b[0m\u001b[0;34m\u001b[0m\u001b[0m\n\u001b[1;32m     11\u001b[0m     \u001b[0mY\u001b[0m\u001b[0;34m,\u001b[0m \u001b[0mrest\u001b[0m \u001b[0;34m=\u001b[0m \u001b[0mvariables\u001b[0m\u001b[0;34m[\u001b[0m\u001b[0;36m0\u001b[0m\u001b[0;34m]\u001b[0m\u001b[0;34m,\u001b[0m \u001b[0mvariables\u001b[0m\u001b[0;34m[\u001b[0m\u001b[0;36m1\u001b[0m\u001b[0;34m:\u001b[0m\u001b[0;34m]\u001b[0m\u001b[0;34m\u001b[0m\u001b[0;34m\u001b[0m\u001b[0m\n\u001b[0;32m---> 12\u001b[0;31m     return sum([enumerate_joint(rest, extend(e, Y, y), P)\n\u001b[0m\u001b[1;32m     13\u001b[0m                 for y in [True, False]])\n\u001b[1;32m     14\u001b[0m \u001b[0;34m\u001b[0m\u001b[0m\n",
            "\u001b[0;32m<ipython-input-24-5f572acba376>\u001b[0m in \u001b[0;36menumerate_joint\u001b[0;34m(variables, e, P)\u001b[0m\n\u001b[1;32m     10\u001b[0m         \u001b[0;32mreturn\u001b[0m \u001b[0mP\u001b[0m\u001b[0;34m[\u001b[0m\u001b[0me\u001b[0m\u001b[0;34m]\u001b[0m\u001b[0;34m\u001b[0m\u001b[0;34m\u001b[0m\u001b[0m\n\u001b[1;32m     11\u001b[0m     \u001b[0mY\u001b[0m\u001b[0;34m,\u001b[0m \u001b[0mrest\u001b[0m \u001b[0;34m=\u001b[0m \u001b[0mvariables\u001b[0m\u001b[0;34m[\u001b[0m\u001b[0;36m0\u001b[0m\u001b[0;34m]\u001b[0m\u001b[0;34m,\u001b[0m \u001b[0mvariables\u001b[0m\u001b[0;34m[\u001b[0m\u001b[0;36m1\u001b[0m\u001b[0;34m:\u001b[0m\u001b[0;34m]\u001b[0m\u001b[0;34m\u001b[0m\u001b[0;34m\u001b[0m\u001b[0m\n\u001b[0;32m---> 12\u001b[0;31m     return sum([enumerate_joint(rest, extend(e, Y, y), P)\n\u001b[0m\u001b[1;32m     13\u001b[0m                 for y in [True, False]])\n\u001b[1;32m     14\u001b[0m \u001b[0;34m\u001b[0m\u001b[0m\n",
            "\u001b[0;32m<ipython-input-24-5f572acba376>\u001b[0m in \u001b[0;36m<listcomp>\u001b[0;34m(.0)\u001b[0m\n\u001b[1;32m     10\u001b[0m         \u001b[0;32mreturn\u001b[0m \u001b[0mP\u001b[0m\u001b[0;34m[\u001b[0m\u001b[0me\u001b[0m\u001b[0;34m]\u001b[0m\u001b[0;34m\u001b[0m\u001b[0;34m\u001b[0m\u001b[0m\n\u001b[1;32m     11\u001b[0m     \u001b[0mY\u001b[0m\u001b[0;34m,\u001b[0m \u001b[0mrest\u001b[0m \u001b[0;34m=\u001b[0m \u001b[0mvariables\u001b[0m\u001b[0;34m[\u001b[0m\u001b[0;36m0\u001b[0m\u001b[0;34m]\u001b[0m\u001b[0;34m,\u001b[0m \u001b[0mvariables\u001b[0m\u001b[0;34m[\u001b[0m\u001b[0;36m1\u001b[0m\u001b[0;34m:\u001b[0m\u001b[0;34m]\u001b[0m\u001b[0;34m\u001b[0m\u001b[0;34m\u001b[0m\u001b[0m\n\u001b[0;32m---> 12\u001b[0;31m     return sum([enumerate_joint(rest, extend(e, Y, y), P)\n\u001b[0m\u001b[1;32m     13\u001b[0m                 for y in [True, False]])\n\u001b[1;32m     14\u001b[0m \u001b[0;34m\u001b[0m\u001b[0m\n",
            "\u001b[0;32m<ipython-input-24-5f572acba376>\u001b[0m in \u001b[0;36menumerate_joint\u001b[0;34m(variables, e, P)\u001b[0m\n\u001b[1;32m      8\u001b[0m     provided variables is P's remaining variables (the ones not in e).\"\"\"\n\u001b[1;32m      9\u001b[0m     \u001b[0;32mif\u001b[0m \u001b[0;32mnot\u001b[0m \u001b[0mvariables\u001b[0m\u001b[0;34m:\u001b[0m\u001b[0;34m\u001b[0m\u001b[0;34m\u001b[0m\u001b[0m\n\u001b[0;32m---> 10\u001b[0;31m         \u001b[0;32mreturn\u001b[0m \u001b[0mP\u001b[0m\u001b[0;34m[\u001b[0m\u001b[0me\u001b[0m\u001b[0;34m]\u001b[0m\u001b[0;34m\u001b[0m\u001b[0;34m\u001b[0m\u001b[0m\n\u001b[0m\u001b[1;32m     11\u001b[0m     \u001b[0mY\u001b[0m\u001b[0;34m,\u001b[0m \u001b[0mrest\u001b[0m \u001b[0;34m=\u001b[0m \u001b[0mvariables\u001b[0m\u001b[0;34m[\u001b[0m\u001b[0;36m0\u001b[0m\u001b[0;34m]\u001b[0m\u001b[0;34m,\u001b[0m \u001b[0mvariables\u001b[0m\u001b[0;34m[\u001b[0m\u001b[0;36m1\u001b[0m\u001b[0;34m:\u001b[0m\u001b[0;34m]\u001b[0m\u001b[0;34m\u001b[0m\u001b[0;34m\u001b[0m\u001b[0m\n\u001b[1;32m     12\u001b[0m     return sum([enumerate_joint(rest, extend(e, Y, y), P)\n",
            "\u001b[0;31mKeyError\u001b[0m: ((('Cavity', True), True), (('Catch', True), True))"
          ]
        }
      ]
    },
    {
      "cell_type": "code",
      "source": [
        "pip install pgmpy"
      ],
      "metadata": {
        "id": "k9-_6nCILvDQ",
        "colab": {
          "base_uri": "https://localhost:8080/"
        },
        "outputId": "80edbe5f-568b-4f71-dd49-d6a0b50a3659"
      },
      "execution_count": 27,
      "outputs": [
        {
          "output_type": "stream",
          "name": "stdout",
          "text": [
            "Collecting pgmpy\n",
            "  Downloading pgmpy-0.1.23-py3-none-any.whl (1.9 MB)\n",
            "\u001b[2K     \u001b[90m━━━━━━━━━━━━━━━━━━━━━━━━━━━━━━━━━━━━━━━━\u001b[0m \u001b[32m1.9/1.9 MB\u001b[0m \u001b[31m9.5 MB/s\u001b[0m eta \u001b[36m0:00:00\u001b[0m\n",
            "\u001b[?25hRequirement already satisfied: networkx in /usr/local/lib/python3.10/dist-packages (from pgmpy) (3.1)\n",
            "Requirement already satisfied: numpy in /usr/local/lib/python3.10/dist-packages (from pgmpy) (1.22.4)\n",
            "Requirement already satisfied: scipy in /usr/local/lib/python3.10/dist-packages (from pgmpy) (1.10.1)\n",
            "Requirement already satisfied: scikit-learn in /usr/local/lib/python3.10/dist-packages (from pgmpy) (1.2.2)\n",
            "Requirement already satisfied: pandas in /usr/local/lib/python3.10/dist-packages (from pgmpy) (1.5.3)\n",
            "Requirement already satisfied: pyparsing in /usr/local/lib/python3.10/dist-packages (from pgmpy) (3.1.0)\n",
            "Requirement already satisfied: torch in /usr/local/lib/python3.10/dist-packages (from pgmpy) (2.0.1+cu118)\n",
            "Requirement already satisfied: statsmodels in /usr/local/lib/python3.10/dist-packages (from pgmpy) (0.13.5)\n",
            "Requirement already satisfied: tqdm in /usr/local/lib/python3.10/dist-packages (from pgmpy) (4.65.0)\n",
            "Requirement already satisfied: joblib in /usr/local/lib/python3.10/dist-packages (from pgmpy) (1.3.1)\n",
            "Requirement already satisfied: opt-einsum in /usr/local/lib/python3.10/dist-packages (from pgmpy) (3.3.0)\n",
            "Requirement already satisfied: python-dateutil>=2.8.1 in /usr/local/lib/python3.10/dist-packages (from pandas->pgmpy) (2.8.2)\n",
            "Requirement already satisfied: pytz>=2020.1 in /usr/local/lib/python3.10/dist-packages (from pandas->pgmpy) (2022.7.1)\n",
            "Requirement already satisfied: threadpoolctl>=2.0.0 in /usr/local/lib/python3.10/dist-packages (from scikit-learn->pgmpy) (3.2.0)\n",
            "Requirement already satisfied: patsy>=0.5.2 in /usr/local/lib/python3.10/dist-packages (from statsmodels->pgmpy) (0.5.3)\n",
            "Requirement already satisfied: packaging>=21.3 in /usr/local/lib/python3.10/dist-packages (from statsmodels->pgmpy) (23.1)\n",
            "Requirement already satisfied: filelock in /usr/local/lib/python3.10/dist-packages (from torch->pgmpy) (3.12.2)\n",
            "Requirement already satisfied: typing-extensions in /usr/local/lib/python3.10/dist-packages (from torch->pgmpy) (4.7.1)\n",
            "Requirement already satisfied: sympy in /usr/local/lib/python3.10/dist-packages (from torch->pgmpy) (1.11.1)\n",
            "Requirement already satisfied: jinja2 in /usr/local/lib/python3.10/dist-packages (from torch->pgmpy) (3.1.2)\n",
            "Requirement already satisfied: triton==2.0.0 in /usr/local/lib/python3.10/dist-packages (from torch->pgmpy) (2.0.0)\n",
            "Requirement already satisfied: cmake in /usr/local/lib/python3.10/dist-packages (from triton==2.0.0->torch->pgmpy) (3.25.2)\n",
            "Requirement already satisfied: lit in /usr/local/lib/python3.10/dist-packages (from triton==2.0.0->torch->pgmpy) (16.0.6)\n",
            "Requirement already satisfied: six in /usr/local/lib/python3.10/dist-packages (from patsy>=0.5.2->statsmodels->pgmpy) (1.16.0)\n",
            "Requirement already satisfied: MarkupSafe>=2.0 in /usr/local/lib/python3.10/dist-packages (from jinja2->torch->pgmpy) (2.1.3)\n",
            "Requirement already satisfied: mpmath>=0.19 in /usr/local/lib/python3.10/dist-packages (from sympy->torch->pgmpy) (1.3.0)\n",
            "Installing collected packages: pgmpy\n",
            "Successfully installed pgmpy-0.1.23\n"
          ]
        }
      ]
    },
    {
      "cell_type": "code",
      "source": [
        "from pgmpy.models import BayesianModel\n",
        "from pgmpy.factors.discrete import TabularCPD\n",
        "\n",
        "# Create a Bayesian model\n",
        "model = BayesianModel()\n",
        "\n",
        "# Define the variables and their dependencies\n",
        "model.add_edge('Burglary', 'Alarm')\n",
        "model.add_edge('Earthquake', 'Alarm')\n",
        "\n",
        "# Define the conditional probability distribution (CPD) for the Alarm node\n",
        "cpd_alarm = TabularCPD(variable='Alarm', variable_card=2,\n",
        "                       values=[[0.95, 0.94, 0.29, 0.001],\n",
        "                               [0.05, 0.06, 0.71, 0.999]],\n",
        "                       evidence=['Burglary', 'Earthquake'],\n",
        "                       evidence_card=[2, 2])\n",
        "\n",
        "# Add the CPD to the model\n",
        "model.add_cpds(cpd_alarm)"
      ],
      "metadata": {
        "id": "X_2z2hbOLvAR"
      },
      "execution_count": 30,
      "outputs": []
    },
    {
      "cell_type": "code",
      "source": [
        "from pgmpy.models import BayesianModel\n",
        "from pgmpy.factors.discrete import TabularCPD\n",
        "\n",
        "# Create a Bayesian model\n",
        "model = BayesianModel()\n",
        "\n",
        "# Add the 'Alarm' node\n",
        "model.add_node('Alarm')\n",
        "\n",
        "# Define the conditional probability distribution (CPD) for the 'Alarm' node\n",
        "cpd_alarm = TabularCPD(variable='Alarm', variable_card=2, values=[[0.95], [0.05]])\n",
        "\n",
        "# Add the CPD to the model\n",
        "model.add_cpds(cpd_alarm)\n",
        "\n",
        "# Add the 'JohnCalls' node\n",
        "model.add_node('JohnCalls')\n",
        "\n",
        "# Define the conditional probability distribution (CPD) for the 'JohnCalls' node\n",
        "cpd_john = TabularCPD(variable='JohnCalls', variable_card=2,\n",
        "                      values=[[0.90, 0.10]],\n",
        "                      evidence=['Alarm'], evidence_card=[2])\n",
        "\n",
        "# Add the CPD to the model\n",
        "model.add_cpds(cpd_john)\n",
        "\n",
        "# Add the 'MaryCalls' node\n",
        "model.add_node('MaryCalls')\n",
        "\n",
        "# Define the conditional probability distribution (CPD) for the 'MaryCalls' node\n",
        "cpd_mary = TabularCPD(variable='MaryCalls', variable_card=2,\n",
        "                      values=[[0.70, 0.01]],\n",
        "                      evidence=['Alarm'], evidence_card=[2])\n",
        "\n",
        "# Add the CPD to the model\n",
        "model.add_cpds(cpd_mary)\n",
        "\n",
        "# Verify the model structure and CPDs\n",
        "print(model.edges())\n",
        "print(model.get_cpds())\n"
      ],
      "metadata": {
        "id": "3Cy2qCrBLvGH"
      },
      "execution_count": null,
      "outputs": []
    }
  ]
}