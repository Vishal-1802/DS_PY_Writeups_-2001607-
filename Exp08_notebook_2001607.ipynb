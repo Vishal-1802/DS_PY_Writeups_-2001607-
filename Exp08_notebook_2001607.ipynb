{
  "nbformat": 4,
  "nbformat_minor": 0,
  "metadata": {
    "colab": {
      "provenance": [],
      "mount_file_id": "1DmKmImS1DTim0sip6OAspGU50LjhQRym",
      "authorship_tag": "ABX9TyNp+ZEae6iiJsSUGDbsNx5O",
      "include_colab_link": true
    },
    "kernelspec": {
      "name": "python3",
      "display_name": "Python 3"
    },
    "language_info": {
      "name": "python"
    }
  },
  "cells": [
    {
      "cell_type": "markdown",
      "metadata": {
        "id": "view-in-github",
        "colab_type": "text"
      },
      "source": [
        "<a href=\"https://colab.research.google.com/github/Vishal-1802/DS_PY_Writeups_-2001607-/blob/main/Exp08_notebook_2001607.ipynb\" target=\"_parent\"><img src=\"https://colab.research.google.com/assets/colab-badge.svg\" alt=\"Open In Colab\"/></a>"
      ]
    },
    {
      "cell_type": "markdown",
      "source": [
        "#1. Define your Problem statement and ML technique I(one) you propose to use. "
      ],
      "metadata": {
        "id": "N5Kmvl2Pp2ve"
      }
    },
    {
      "cell_type": "markdown",
      "source": [
        "= As an AI language model, I cannot propose a problem statement and ML technique on my own as it requires a clear understanding of the task and data. However, I can describe the process of defining a problem statement and selecting an ML technique.\n",
        "\n",
        "#Problem Statement:\n",
        "A problem statement defines the task to be accomplished and identifies what the algorithm is expected to predict, detect or classify. A problem statement should be clear, concise, and measurable. It is important to clearly define the problem statement to avoid ambiguity and ensure the success of the project.\n",
        "\n",
        "#ML Technique:\n",
        "After defining the problem statement, the next step is to select the appropriate ML technique. The selection of ML technique depends on the nature of the problem, the type of data available and the desired outcome. Some of the popular ML techniques are supervised learning, unsupervised learning, reinforcement learning, deep learning, and neural networks. Each technique has its advantages and disadvantages, and it is important to choose the one that best suits the requirements of the problem statement.\n",
        "\n",
        "In summary, the problem statement and ML technique are interdependent, and the selection of one depends on the definition of the other. Therefore, it is important to take the time to define the problem statement clearly and then select the appropriate ML technique that can produce the desired results."
      ],
      "metadata": {
        "id": "1Vol3gT5ptPi"
      }
    },
    {
      "cell_type": "markdown",
      "source": [
        "#2. Write about working of ML technique I you have proposed  "
      ],
      "metadata": {
        "id": "LqP2D8VkqVqA"
      }
    },
    {
      "cell_type": "markdown",
      "source": [
        "#Supervised Learning:\n",
        " This ML technique involves training an algorithm with labeled data where the computational model learns to predict output by associating inputs with target outputs. The model is supervised by a dataset that contains both input and output data. For instance, classification or regression algorithms can be trained using a labeled dataset, where the output is known, and the algorithm finds patterns in input features that can predict the output. A classic example of this technique is image recognition software that identifies images based on labeled training data.\n",
        "\n",
        "#Unsupervised Learning:\n",
        "This ML technique involves training algorithms with unlabeled data, where the model tries to learn the patterns and structure in data and creates its own output based on data analysis. Unlike supervised learning, unsupervised learning does not have pre-labeled data to label inputs or outputs. Clustering is a common example of unsupervised learning, where data is clustered into groups based on their similarities.\n",
        "\n",
        "#Reinforcement Learning:\n",
        " This ML technique involves training algorithms based on feedback received from an environment or system in the form of rewards or penalties. It involves an agent performing different actions in an environment to the maximum reward. The agent learns to identify the best course of action to maximize rewards and minimize penalties. A pertinent example is chess play algorithms where the agent receives a reward for winning and a penalty for losing.\n",
        "\n",
        "Overall, each ML technique serves a different purpose depending on the type of data available and the problem being solved, and many real-world applications use a combination of these techniques to improve modeling and prediction accuracy.\n",
        "\n",
        "\n",
        "\n",
        "\n",
        "\n"
      ],
      "metadata": {
        "id": "fONX3T2gqZ_y"
      }
    },
    {
      "cell_type": "markdown",
      "source": [
        "#3. Pull your chosen data set from experiment 7  "
      ],
      "metadata": {
        "id": "juOw8rzysKLO"
      }
    },
    {
      "cell_type": "code",
      "source": [
        "from google.colab import drive\n",
        "drive.mount('/content/drive')"
      ],
      "metadata": {
        "colab": {
          "base_uri": "https://localhost:8080/"
        },
        "id": "kNKfgdx_ur7h",
        "outputId": "6402092a-3a71-4e88-8953-0337d53f3037"
      },
      "execution_count": 2,
      "outputs": [
        {
          "output_type": "stream",
          "name": "stdout",
          "text": [
            "Mounted at /content/drive\n"
          ]
        }
      ]
    },
    {
      "cell_type": "code",
      "source": [
        "import pandas as pd\n",
        "\n",
        "data = pd.read_csv('/content/drive/MyDrive/Colab Notebooks/Container_Crane_Controller_Data_Set.csv')"
      ],
      "metadata": {
        "id": "_fYyAor3wtMM"
      },
      "execution_count": 4,
      "outputs": []
    },
    {
      "cell_type": "code",
      "source": [
        "data"
      ],
      "metadata": {
        "colab": {
          "base_uri": "https://localhost:8080/",
          "height": 519
        },
        "id": "R0jYcP4OzkxQ",
        "outputId": "2103f07e-97b7-4785-b027-bf4e78ffa0c7"
      },
      "execution_count": 74,
      "outputs": [
        {
          "output_type": "execute_result",
          "data": {
            "text/plain": [
              "         Speed;Angle;Power\n",
              "1;-5;0                   3\n",
              "2;5;0                    3\n",
              "3;-2;0                   5\n",
              "1;2;0                    5\n",
              "2;0;0                    7\n",
              "6;-5;0                   5\n",
              "7;5;0                    5\n",
              "6;-2;0                   3\n",
              "7;2;0                    3\n",
              "6;0;0                    7\n",
              "8;-5;0                   5\n",
              "9;5;0                    5\n",
              "10;-2;0                  3\n",
              "8;2;0                    3\n",
              "9;0;0                    5"
            ],
            "text/html": [
              "\n",
              "  <div id=\"df-fc13bdb1-4428-43a8-9515-6bbd728895e1\">\n",
              "    <div class=\"colab-df-container\">\n",
              "      <div>\n",
              "<style scoped>\n",
              "    .dataframe tbody tr th:only-of-type {\n",
              "        vertical-align: middle;\n",
              "    }\n",
              "\n",
              "    .dataframe tbody tr th {\n",
              "        vertical-align: top;\n",
              "    }\n",
              "\n",
              "    .dataframe thead th {\n",
              "        text-align: right;\n",
              "    }\n",
              "</style>\n",
              "<table border=\"1\" class=\"dataframe\">\n",
              "  <thead>\n",
              "    <tr style=\"text-align: right;\">\n",
              "      <th></th>\n",
              "      <th>Speed;Angle;Power</th>\n",
              "    </tr>\n",
              "  </thead>\n",
              "  <tbody>\n",
              "    <tr>\n",
              "      <th>1;-5;0</th>\n",
              "      <td>3</td>\n",
              "    </tr>\n",
              "    <tr>\n",
              "      <th>2;5;0</th>\n",
              "      <td>3</td>\n",
              "    </tr>\n",
              "    <tr>\n",
              "      <th>3;-2;0</th>\n",
              "      <td>5</td>\n",
              "    </tr>\n",
              "    <tr>\n",
              "      <th>1;2;0</th>\n",
              "      <td>5</td>\n",
              "    </tr>\n",
              "    <tr>\n",
              "      <th>2;0;0</th>\n",
              "      <td>7</td>\n",
              "    </tr>\n",
              "    <tr>\n",
              "      <th>6;-5;0</th>\n",
              "      <td>5</td>\n",
              "    </tr>\n",
              "    <tr>\n",
              "      <th>7;5;0</th>\n",
              "      <td>5</td>\n",
              "    </tr>\n",
              "    <tr>\n",
              "      <th>6;-2;0</th>\n",
              "      <td>3</td>\n",
              "    </tr>\n",
              "    <tr>\n",
              "      <th>7;2;0</th>\n",
              "      <td>3</td>\n",
              "    </tr>\n",
              "    <tr>\n",
              "      <th>6;0;0</th>\n",
              "      <td>7</td>\n",
              "    </tr>\n",
              "    <tr>\n",
              "      <th>8;-5;0</th>\n",
              "      <td>5</td>\n",
              "    </tr>\n",
              "    <tr>\n",
              "      <th>9;5;0</th>\n",
              "      <td>5</td>\n",
              "    </tr>\n",
              "    <tr>\n",
              "      <th>10;-2;0</th>\n",
              "      <td>3</td>\n",
              "    </tr>\n",
              "    <tr>\n",
              "      <th>8;2;0</th>\n",
              "      <td>3</td>\n",
              "    </tr>\n",
              "    <tr>\n",
              "      <th>9;0;0</th>\n",
              "      <td>5</td>\n",
              "    </tr>\n",
              "  </tbody>\n",
              "</table>\n",
              "</div>\n",
              "      <button class=\"colab-df-convert\" onclick=\"convertToInteractive('df-fc13bdb1-4428-43a8-9515-6bbd728895e1')\"\n",
              "              title=\"Convert this dataframe to an interactive table.\"\n",
              "              style=\"display:none;\">\n",
              "        \n",
              "  <svg xmlns=\"http://www.w3.org/2000/svg\" height=\"24px\"viewBox=\"0 0 24 24\"\n",
              "       width=\"24px\">\n",
              "    <path d=\"M0 0h24v24H0V0z\" fill=\"none\"/>\n",
              "    <path d=\"M18.56 5.44l.94 2.06.94-2.06 2.06-.94-2.06-.94-.94-2.06-.94 2.06-2.06.94zm-11 1L8.5 8.5l.94-2.06 2.06-.94-2.06-.94L8.5 2.5l-.94 2.06-2.06.94zm10 10l.94 2.06.94-2.06 2.06-.94-2.06-.94-.94-2.06-.94 2.06-2.06.94z\"/><path d=\"M17.41 7.96l-1.37-1.37c-.4-.4-.92-.59-1.43-.59-.52 0-1.04.2-1.43.59L10.3 9.45l-7.72 7.72c-.78.78-.78 2.05 0 2.83L4 21.41c.39.39.9.59 1.41.59.51 0 1.02-.2 1.41-.59l7.78-7.78 2.81-2.81c.8-.78.8-2.07 0-2.86zM5.41 20L4 18.59l7.72-7.72 1.47 1.35L5.41 20z\"/>\n",
              "  </svg>\n",
              "      </button>\n",
              "      \n",
              "  <style>\n",
              "    .colab-df-container {\n",
              "      display:flex;\n",
              "      flex-wrap:wrap;\n",
              "      gap: 12px;\n",
              "    }\n",
              "\n",
              "    .colab-df-convert {\n",
              "      background-color: #E8F0FE;\n",
              "      border: none;\n",
              "      border-radius: 50%;\n",
              "      cursor: pointer;\n",
              "      display: none;\n",
              "      fill: #1967D2;\n",
              "      height: 32px;\n",
              "      padding: 0 0 0 0;\n",
              "      width: 32px;\n",
              "    }\n",
              "\n",
              "    .colab-df-convert:hover {\n",
              "      background-color: #E2EBFA;\n",
              "      box-shadow: 0px 1px 2px rgba(60, 64, 67, 0.3), 0px 1px 3px 1px rgba(60, 64, 67, 0.15);\n",
              "      fill: #174EA6;\n",
              "    }\n",
              "\n",
              "    [theme=dark] .colab-df-convert {\n",
              "      background-color: #3B4455;\n",
              "      fill: #D2E3FC;\n",
              "    }\n",
              "\n",
              "    [theme=dark] .colab-df-convert:hover {\n",
              "      background-color: #434B5C;\n",
              "      box-shadow: 0px 1px 3px 1px rgba(0, 0, 0, 0.15);\n",
              "      filter: drop-shadow(0px 1px 2px rgba(0, 0, 0, 0.3));\n",
              "      fill: #FFFFFF;\n",
              "    }\n",
              "  </style>\n",
              "\n",
              "      <script>\n",
              "        const buttonEl =\n",
              "          document.querySelector('#df-fc13bdb1-4428-43a8-9515-6bbd728895e1 button.colab-df-convert');\n",
              "        buttonEl.style.display =\n",
              "          google.colab.kernel.accessAllowed ? 'block' : 'none';\n",
              "\n",
              "        async function convertToInteractive(key) {\n",
              "          const element = document.querySelector('#df-fc13bdb1-4428-43a8-9515-6bbd728895e1');\n",
              "          const dataTable =\n",
              "            await google.colab.kernel.invokeFunction('convertToInteractive',\n",
              "                                                     [key], {});\n",
              "          if (!dataTable) return;\n",
              "\n",
              "          const docLinkHtml = 'Like what you see? Visit the ' +\n",
              "            '<a target=\"_blank\" href=https://colab.research.google.com/notebooks/data_table.ipynb>data table notebook</a>'\n",
              "            + ' to learn more about interactive tables.';\n",
              "          element.innerHTML = '';\n",
              "          dataTable['output_type'] = 'display_data';\n",
              "          await google.colab.output.renderOutput(dataTable, element);\n",
              "          const docLink = document.createElement('div');\n",
              "          docLink.innerHTML = docLinkHtml;\n",
              "          element.appendChild(docLink);\n",
              "        }\n",
              "      </script>\n",
              "    </div>\n",
              "  </div>\n",
              "  "
            ]
          },
          "metadata": {},
          "execution_count": 74
        }
      ]
    },
    {
      "cell_type": "markdown",
      "source": [
        "#4. Do pre-processing as per requirements of ML technique I "
      ],
      "metadata": {
        "id": "exvl_seoztLT"
      }
    },
    {
      "cell_type": "markdown",
      "source": [
        "#Supervised Learning:\n",
        "Supervised learning algorithms require labeled data for training. The data needs to be pre-processed in the following ways:\n",
        "\n",
        "a. Data Cleaning: Remove missing or invalid data, handle outliers, and deal with noisy data.\n",
        "\n",
        "b. Feature Selection: Identify the most important features for the algorithm to learn from. This can be done using correlation analysis, mutual information, and feature importance ranking techniques.\n",
        "\n",
        "c. Feature Scaling: Scale the features to a similar range to prevent certain features from dominating the model.\n",
        "\n",
        "d. Data Splitting: Split the data into training and testing sets. The training set is used to train the model, while the testing set is used to evaluate its performance.\n",
        "\n",
        "#Unsupervised Learning:\n",
        "Unsupervised learning algorithms do not require labeled data. The data needs to be pre-processed in the following ways:\n",
        "\n",
        "a. Data Cleaning: Remove missing or invalid data, handle outliers, and deal with noisy data.\n",
        "\n",
        "b. Feature Scaling: Scale the features to a similar range to prevent certain features from dominating the model.\n",
        "\n",
        "c. Dimensionality Reduction: Reduce the number of features to make the data easier to analyze. This can be done using techniques like principal component analysis (PCA) or t-distributed stochastic neighbor embedding (t-SNE).\n",
        "\n",
        "#Reinforcement Learning:\n",
        "Reinforcement learning algorithms learn from feedback in the form of rewards or punishments. The data needs to be pre-processed in the following ways:\n",
        "\n",
        "a. State Representation: Represent the state of the environment in a way that can be easily interpreted by the algorithm. This can be done using techniques like discretization or feature extraction.\n",
        "\n",
        "b. Action Selection: Choose the appropriate action to take based on the current state of the environment. This can be done using techniques like Q-learning or policy gradients.\n",
        "\n",
        "c. Reward Design: Design a reward function that provides meaningful feedback to the algorithm. This can be a challenging task, as poorly designed rewards can lead to suboptimal behavior."
      ],
      "metadata": {
        "id": "cAdMlJH91LYk"
      }
    },
    {
      "cell_type": "markdown",
      "source": [
        "#5. Divide Data set in to training and validation sets\n",
        "\n"
      ],
      "metadata": {
        "id": "t-1BRC3y1T4w"
      }
    },
    {
      "cell_type": "code",
      "source": [
        "import numpy as np\n",
        "import pandas as pd\n",
        "from sklearn.model_selection import train_test_split\n",
        "\n",
        "# load dataset\n",
        "dataset = pd.read_csv('/content/drive/MyDrive/Colab Notebooks/Container_Crane_Controller_Data_Set.csv')\n",
        "\n",
        "# divide dataset into features and target\n",
        "X = dataset.iloc[:, :-1].values\n",
        "y = dataset.iloc[:, -1].values\n",
        "\n",
        "# split dataset into training and validation sets\n",
        "X_train, X_val, y_train, y_val = train_test_split(X, y, test_size=0.2, random_state=42)\n",
        "\n",
        "# check the shape of the sets\n",
        "print(\"Training set shape:\", X_train.shape, y_train.shape)\n",
        "print(\"Validation set shape:\", X_val.shape, y_val.shape)\n"
      ],
      "metadata": {
        "colab": {
          "base_uri": "https://localhost:8080/"
        },
        "id": "sMaQ-IwT2XMY",
        "outputId": "743aea94-5d2d-4131-9d66-0b33b0aab23a"
      },
      "execution_count": 48,
      "outputs": [
        {
          "output_type": "stream",
          "name": "stdout",
          "text": [
            "Training set shape: (12, 0) (12,)\n",
            "Validation set shape: (3, 0) (3,)\n"
          ]
        }
      ]
    },
    {
      "cell_type": "markdown",
      "source": [
        "#6. Perform training \n",
        "\n"
      ],
      "metadata": {
        "id": "oX3gw2hs3Nfm"
      }
    },
    {
      "cell_type": "code",
      "source": [
        "import tensorflow as tf\n",
        "import pandas as pd\n",
        "import numpy as np\n",
        "\n",
        "# Load the data from the CSV file and replace commas with periods\n",
        "df = pd.read_csv('/content/drive/MyDrive/Colab Notebooks/Container_Crane_Controller_Data_Set.csv', delimiter=';')\n",
        "df = df.replace(',', '.', regex=True)\n",
        "\n",
        "# Split the data into training and testing sets\n",
        "train_size = int(0.8 * len(df))\n",
        "train_data = df.iloc[:train_size].values\n",
        "test_data = df.iloc[train_size:].values\n",
        "\n",
        "# Split the input and output variables\n",
        "train_X, train_y = train_data[:, :-1].astype(np.float32), train_data[:, -1].astype(np.float32)\n",
        "test_X, test_y = test_data[:, :-1].astype(np.float32), test_data[:, -1].astype(np.float32)\n",
        "\n",
        "# Build the model\n",
        "model = tf.keras.Sequential([\n",
        "  tf.keras.layers.Dense(16, activation='relu', input_shape=(train_X.shape[1],)),\n",
        "  tf.keras.layers.Dense(8, activation='relu'),\n",
        "  tf.keras.layers.Dense(1)\n",
        "])\n",
        "\n",
        "# Compile the model\n",
        "model.compile(loss='mse', optimizer='adam')\n",
        "\n",
        "# Train the model\n",
        "model.fit(train_X, train_y, epochs=50, batch_size=32, validation_data=(test_X, test_y))\n"
      ],
      "metadata": {
        "colab": {
          "base_uri": "https://localhost:8080/"
        },
        "id": "OgAJd_3UgbJ0",
        "outputId": "6f8b0c53-a3ea-42e1-9ec9-3b8c1e66a505"
      },
      "execution_count": 23,
      "outputs": [
        {
          "output_type": "stream",
          "name": "stdout",
          "text": [
            "Epoch 1/50\n",
            "1/1 [==============================] - 1s 870ms/step - loss: 1.2487 - val_loss: 1.0432\n",
            "Epoch 2/50\n",
            "1/1 [==============================] - 0s 40ms/step - loss: 1.1776 - val_loss: 0.9743\n",
            "Epoch 3/50\n",
            "1/1 [==============================] - 0s 40ms/step - loss: 1.1098 - val_loss: 0.9083\n",
            "Epoch 4/50\n",
            "1/1 [==============================] - 0s 38ms/step - loss: 1.0451 - val_loss: 0.8451\n",
            "Epoch 5/50\n",
            "1/1 [==============================] - 0s 39ms/step - loss: 0.9858 - val_loss: 0.7847\n",
            "Epoch 6/50\n",
            "1/1 [==============================] - 0s 38ms/step - loss: 0.9287 - val_loss: 0.7272\n",
            "Epoch 7/50\n",
            "1/1 [==============================] - 0s 54ms/step - loss: 0.8774 - val_loss: 0.6741\n",
            "Epoch 8/50\n",
            "1/1 [==============================] - 0s 37ms/step - loss: 0.8282 - val_loss: 0.6266\n",
            "Epoch 9/50\n",
            "1/1 [==============================] - 0s 45ms/step - loss: 0.7810 - val_loss: 0.5814\n",
            "Epoch 10/50\n",
            "1/1 [==============================] - 0s 40ms/step - loss: 0.7362 - val_loss: 0.5385\n",
            "Epoch 11/50\n",
            "1/1 [==============================] - 0s 39ms/step - loss: 0.6945 - val_loss: 0.4980\n",
            "Epoch 12/50\n",
            "1/1 [==============================] - 0s 36ms/step - loss: 0.6554 - val_loss: 0.4597\n",
            "Epoch 13/50\n",
            "1/1 [==============================] - 0s 36ms/step - loss: 0.6181 - val_loss: 0.4238\n",
            "Epoch 14/50\n",
            "1/1 [==============================] - 0s 42ms/step - loss: 0.5837 - val_loss: 0.3900\n",
            "Epoch 15/50\n",
            "1/1 [==============================] - 0s 36ms/step - loss: 0.5512 - val_loss: 0.3583\n",
            "Epoch 16/50\n",
            "1/1 [==============================] - 0s 41ms/step - loss: 0.5204 - val_loss: 0.3314\n",
            "Epoch 17/50\n",
            "1/1 [==============================] - 0s 41ms/step - loss: 0.4933 - val_loss: 0.3132\n",
            "Epoch 18/50\n",
            "1/1 [==============================] - 0s 36ms/step - loss: 0.4679 - val_loss: 0.2962\n",
            "Epoch 19/50\n",
            "1/1 [==============================] - 0s 38ms/step - loss: 0.4439 - val_loss: 0.2802\n",
            "Epoch 20/50\n",
            "1/1 [==============================] - 0s 40ms/step - loss: 0.4214 - val_loss: 0.2654\n",
            "Epoch 21/50\n",
            "1/1 [==============================] - 0s 40ms/step - loss: 0.4002 - val_loss: 0.2515\n",
            "Epoch 22/50\n",
            "1/1 [==============================] - 0s 40ms/step - loss: 0.3804 - val_loss: 0.2395\n",
            "Epoch 23/50\n",
            "1/1 [==============================] - 0s 61ms/step - loss: 0.3620 - val_loss: 0.2358\n",
            "Epoch 24/50\n",
            "1/1 [==============================] - 0s 39ms/step - loss: 0.3463 - val_loss: 0.2323\n",
            "Epoch 25/50\n",
            "1/1 [==============================] - 0s 40ms/step - loss: 0.3318 - val_loss: 0.2291\n",
            "Epoch 26/50\n",
            "1/1 [==============================] - 0s 56ms/step - loss: 0.3194 - val_loss: 0.2259\n",
            "Epoch 27/50\n",
            "1/1 [==============================] - 0s 39ms/step - loss: 0.3091 - val_loss: 0.2227\n",
            "Epoch 28/50\n",
            "1/1 [==============================] - 0s 39ms/step - loss: 0.3042 - val_loss: 0.2194\n",
            "Epoch 29/50\n",
            "1/1 [==============================] - 0s 36ms/step - loss: 0.2999 - val_loss: 0.2159\n",
            "Epoch 30/50\n",
            "1/1 [==============================] - 0s 40ms/step - loss: 0.2956 - val_loss: 0.2124\n",
            "Epoch 31/50\n",
            "1/1 [==============================] - 0s 42ms/step - loss: 0.2913 - val_loss: 0.2089\n",
            "Epoch 32/50\n",
            "1/1 [==============================] - 0s 39ms/step - loss: 0.2871 - val_loss: 0.2053\n",
            "Epoch 33/50\n",
            "1/1 [==============================] - 0s 39ms/step - loss: 0.2828 - val_loss: 0.2018\n",
            "Epoch 34/50\n",
            "1/1 [==============================] - 0s 37ms/step - loss: 0.2785 - val_loss: 0.1982\n",
            "Epoch 35/50\n",
            "1/1 [==============================] - 0s 38ms/step - loss: 0.2743 - val_loss: 0.1946\n",
            "Epoch 36/50\n",
            "1/1 [==============================] - 0s 40ms/step - loss: 0.2704 - val_loss: 0.1910\n",
            "Epoch 37/50\n",
            "1/1 [==============================] - 0s 37ms/step - loss: 0.2666 - val_loss: 0.1874\n",
            "Epoch 38/50\n",
            "1/1 [==============================] - 0s 41ms/step - loss: 0.2628 - val_loss: 0.1839\n",
            "Epoch 39/50\n",
            "1/1 [==============================] - 0s 42ms/step - loss: 0.2591 - val_loss: 0.1803\n",
            "Epoch 40/50\n",
            "1/1 [==============================] - 0s 37ms/step - loss: 0.2555 - val_loss: 0.1768\n",
            "Epoch 41/50\n",
            "1/1 [==============================] - 0s 38ms/step - loss: 0.2520 - val_loss: 0.1734\n",
            "Epoch 42/50\n",
            "1/1 [==============================] - 0s 61ms/step - loss: 0.2486 - val_loss: 0.1700\n",
            "Epoch 43/50\n",
            "1/1 [==============================] - 0s 40ms/step - loss: 0.2454 - val_loss: 0.1666\n",
            "Epoch 44/50\n",
            "1/1 [==============================] - 0s 59ms/step - loss: 0.2422 - val_loss: 0.1632\n",
            "Epoch 45/50\n",
            "1/1 [==============================] - 0s 40ms/step - loss: 0.2391 - val_loss: 0.1599\n",
            "Epoch 46/50\n",
            "1/1 [==============================] - 0s 63ms/step - loss: 0.2360 - val_loss: 0.1566\n",
            "Epoch 47/50\n",
            "1/1 [==============================] - 0s 61ms/step - loss: 0.2330 - val_loss: 0.1533\n",
            "Epoch 48/50\n",
            "1/1 [==============================] - 0s 41ms/step - loss: 0.2299 - val_loss: 0.1501\n",
            "Epoch 49/50\n",
            "1/1 [==============================] - 0s 38ms/step - loss: 0.2270 - val_loss: 0.1469\n",
            "Epoch 50/50\n",
            "1/1 [==============================] - 0s 39ms/step - loss: 0.2240 - val_loss: 0.1438\n"
          ]
        },
        {
          "output_type": "execute_result",
          "data": {
            "text/plain": [
              "<keras.callbacks.History at 0x7f2bed385880>"
            ]
          },
          "metadata": {},
          "execution_count": 23
        }
      ]
    },
    {
      "cell_type": "markdown",
      "source": [
        "#7. Perform Validation"
      ],
      "metadata": {
        "id": "nDetnVe7DegB"
      }
    },
    {
      "cell_type": "code",
      "source": [
        "# Load the validation data from the CSV file\n",
        "validation_data = pd.read_csv('/content/drive/MyDrive/Colab Notebooks/Container_Crane_Controller_Data_Set.csv', delimiter=';')\n",
        "\n",
        "# Replace commas with periods in the \"Power\" column\n",
        "validation_data['Power'] = validation_data['Power'].str.replace(',', '.')\n",
        "\n",
        "# Split the input and output variables\n",
        "validation_X, validation_y = validation_data.iloc[:, :-1].astype(np.float32), validation_data.iloc[:, -1].astype(np.float32)\n",
        "\n",
        "# Make predictions on the validation data\n",
        "predictions = model.predict(validation_X)\n",
        "\n",
        "# Print the predictions\n",
        "print(predictions)"
      ],
      "metadata": {
        "colab": {
          "base_uri": "https://localhost:8080/"
        },
        "id": "D433J7vekSMC",
        "outputId": "198287ae-d893-4478-93f0-45edfcf8f86f"
      },
      "execution_count": 27,
      "outputs": [
        {
          "output_type": "stream",
          "name": "stdout",
          "text": [
            "1/1 [==============================] - 0s 97ms/step\n",
            "[[ 0.04376378]\n",
            " [-0.07501636]\n",
            " [ 0.02030232]\n",
            " [ 0.0078057 ]\n",
            " [ 0.04378046]\n",
            " [ 0.0008597 ]\n",
            " [ 0.06571473]\n",
            " [-0.04825699]\n",
            " [ 0.0627104 ]\n",
            " [ 0.03052612]\n",
            " [-0.04607315]\n",
            " [ 0.0739896 ]\n",
            " [-0.08170149]\n",
            " [ 0.06373449]\n",
            " [ 0.02058534]]\n"
          ]
        }
      ]
    },
    {
      "cell_type": "markdown",
      "source": [
        "#8. Report Accuracy of your trained ML Model\n",
        "\n"
      ],
      "metadata": {
        "id": "AsmUTLFvlZj-"
      }
    },
    {
      "cell_type": "code",
      "source": [
        "from sklearn.metrics import mean_squared_error\n",
        "\n",
        "mse = mean_squared_error(validation_y, predictions)\n",
        "rmse = np.sqrt(mse)\n",
        "print(\"MSE: {:.2f}\".format(mse))\n",
        "print(\"RMSE: {:.2f}\".format(rmse))"
      ],
      "metadata": {
        "colab": {
          "base_uri": "https://localhost:8080/"
        },
        "id": "M9vdi7yYlb6D",
        "outputId": "5b3705b8-04b1-4c88-8864-3a057ebb2f61"
      },
      "execution_count": 28,
      "outputs": [
        {
          "output_type": "stream",
          "name": "stdout",
          "text": [
            "MSE: 0.21\n",
            "RMSE: 0.45\n"
          ]
        }
      ]
    }
  ]
}