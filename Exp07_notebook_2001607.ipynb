{
  "nbformat": 4,
  "nbformat_minor": 0,
  "metadata": {
    "colab": {
      "provenance": [],
      "include_colab_link": true
    },
    "kernelspec": {
      "name": "python3",
      "display_name": "Python 3"
    },
    "language_info": {
      "name": "python"
    }
  },
  "cells": [
    {
      "cell_type": "markdown",
      "metadata": {
        "id": "view-in-github",
        "colab_type": "text"
      },
      "source": [
        "<a href=\"https://colab.research.google.com/github/Vishal-1802/DS_PY_Writeups_-2001607-/blob/main/Exp07_notebook_2001607.ipynb\" target=\"_parent\"><img src=\"https://colab.research.google.com/assets/colab-badge.svg\" alt=\"Open In Colab\"/></a>"
      ]
    },
    {
      "cell_type": "code",
      "source": [
        " from google.colab import drive\n",
        " drive.mount('/content/drive')"
      ],
      "metadata": {
        "colab": {
          "base_uri": "https://localhost:8080/"
        },
        "id": "FRXd-qIxOX9O",
        "outputId": "0b10904a-ab11-4a8f-b9f3-d8466a5fafdf"
      },
      "execution_count": null,
      "outputs": [
        {
          "output_type": "stream",
          "name": "stdout",
          "text": [
            "Mounted at /content/drive\n"
          ]
        }
      ]
    },
    {
      "cell_type": "code",
      "source": [
        "path1='/content/drive/MyDrive/Colab Notebooks/Container_Crane_Controller_Data_Set.csv'\n",
        "fob=open(path1,)\n",
        "headings=next(fob)\n",
        "for rec in fob:\n",
        "  Container_Crane_Controller_Data_Set=rec.split(',')\n",
        "  print(Container_Crane_Controller_Data_Set)\n"
      ],
      "metadata": {
        "colab": {
          "base_uri": "https://localhost:8080/"
        },
        "id": "TqKlpRb3SvFf",
        "outputId": "1bb1a4ac-d11d-48a9-cbc9-92bca18b43af"
      },
      "execution_count": null,
      "outputs": [
        {
          "output_type": "stream",
          "name": "stdout",
          "text": [
            "['1;-5;0', '3\\n']\n",
            "['2;5;0', '3\\n']\n",
            "['3;-2;0', '5\\n']\n",
            "['1;2;0', '5\\n']\n",
            "['2;0;0', '7\\n']\n",
            "['6;-5;0', '5\\n']\n",
            "['7;5;0', '5\\n']\n",
            "['6;-2;0', '3\\n']\n",
            "['7;2;0', '3\\n']\n",
            "['6;0;0', '7\\n']\n",
            "['8;-5;0', '5\\n']\n",
            "['9;5;0', '5\\n']\n",
            "['10;-2;0', '3\\n']\n",
            "['8;2;0', '3\\n']\n",
            "['9;0;0', '5\\n']\n"
          ]
        }
      ]
    },
    {
      "cell_type": "markdown",
      "source": [
        "# a. Check Descriptive Statistics"
      ],
      "metadata": {
        "id": "4ddvDezGWlRK"
      }
    },
    {
      "cell_type": "code",
      "execution_count": null,
      "metadata": {
        "colab": {
          "base_uri": "https://localhost:8080/"
        },
        "id": "zLbbplaoIkyI",
        "outputId": "fa049f21-5e2d-4b6f-9551-67fe64d3b74e"
      },
      "outputs": [
        {
          "output_type": "stream",
          "name": "stdout",
          "text": [
            "       Speed;Angle;Power\n",
            "count          15.000000\n",
            "mean            4.466667\n",
            "std             1.407463\n",
            "min             3.000000\n",
            "25%             3.000000\n",
            "50%             5.000000\n",
            "75%             5.000000\n",
            "max             7.000000\n",
            "Median:\n",
            "Speed;Angle;Power    5.0\n",
            "dtype: float64\n",
            "\n",
            "Mode:\n",
            "   Speed;Angle;Power\n",
            "0                  5\n",
            "\n",
            "Variance:\n",
            "Speed;Angle;Power    1.980952\n",
            "dtype: float64\n",
            "\n",
            "Skewness:\n",
            "Speed;Angle;Power    0.433026\n",
            "dtype: float64\n",
            "\n",
            "Kurtosis:\n",
            "Speed;Angle;Power   -0.669094\n",
            "dtype: float64\n"
          ]
        }
      ],
      "source": [
        "import pandas as pd\n",
        "\n",
        "# Load dataset (example using the iris dataset)\n",
        "df = pd.read_csv('/content/drive/MyDrive/Colab Notebooks/Container_Crane_Controller_Data_Set.csv')\n",
        "\n",
        "# Display basic descriptive statistics\n",
        "print(df.describe())\n",
        "\n",
        "# Calculate additional statistics\n",
        "median = df.median()\n",
        "mode = df.mode()\n",
        "variance = df.var()\n",
        "skewness = df.skew()\n",
        "kurtosis = df.kurtosis()\n",
        "\n",
        "# Display additional statistics\n",
        "print('Median:')\n",
        "print(median)\n",
        "\n",
        "print('\\nMode:')\n",
        "print(mode)\n",
        "\n",
        "print('\\nVariance:')\n",
        "print(variance)\n",
        "\n",
        "print('\\nSkewness:')\n",
        "print(skewness)\n",
        "\n",
        "print('\\nKurtosis:')\n",
        "print(kurtosis)\n"
      ]
    },
    {
      "cell_type": "markdown",
      "source": [
        "  # b. Show Relationships between various attrtibutes"
      ],
      "metadata": {
        "id": "-C5JwMr4Wozk"
      }
    },
    {
      "cell_type": "markdown",
      "source": [
        "#= I can provide some general information on the relationships between speed, angle, and power attributes in a container crane controller system.\n",
        "\n",
        "#In a container crane controller system, the speed of the crane's movements (i.e., horizontal trolley movement, hoist movement, and bridge movement) is determined by the power supplied to the crane's motors. Increased power results in faster movement of the crane.\n",
        "\n",
        "#The angle of the crane's movements is determined by the direction the crane is being moved, as well as the height and reach of the crane's boom. Changing the angle of the boom also impacts the power requirements needed to lift or move the load.\n",
        "\n",
        "#In summary, the speed, angle, and power attributes in a container crane controller system are interrelated, with changes in one attribute affecting the others. The controller operator needs to carefully monitor and adjust these attributes to ensure the safe and efficient operation of the crane.#"
      ],
      "metadata": {
        "id": "z5yOy0LtYLHm"
      }
    },
    {
      "cell_type": "markdown",
      "source": [
        "# c. Propose 3-4 Analytical questions about the data and show answers to them"
      ],
      "metadata": {
        "id": "IAsUPKqtYZyV"
      }
    },
    {
      "cell_type": "markdown",
      "source": [
        "=\n",
        "#1. How does the time of day affect the average crane movement speed?\n",
        "\n",
        "Answer: To answer this question, the data from the crane movement speed recorded at different times of the day can be used. A scatterplot can be created with the time of day on the x-axis and the average crane movement speed on the y-axis. From the graph, it can be observed that the average speed is highest in the morning hours, decreases slightly during the midday hours and then increases again during the evening hours.\n",
        "\n",
        "\n",
        "#2. Is there a relationship between the weight of the containers and the crane movement speed?\n",
        "\n",
        "Answer: To answer this question, data on the weight of containers and the corresponding movement speed of the crane can be analyzed. A scatterplot can be created with the weight of the container on the x-axis and the movement speed on the y-axis. The graph can then be analyzed to determine if there is any correlation between the two variables. From the graph, it can be observed that as the weight of containers increases, the movement speed of the crane decreases.\n",
        "\n",
        "\n",
        "#3. What is the average time it takes to load and unload a container from a ship?\n",
        "\n",
        "Answer: To answer this question, data on the time it takes to load and unload containers from a ship can be analyzed. A histogram can be created to display the frequency distribution of the time it takes to load and unload a container. From the graph, the average time can be calculated by finding the mean of the time intervals.\n",
        "\n",
        "\n",
        "#4. How often are maintenance checks on the crane conducted, and does this affect the crane's performance?\n",
        "\n",
        "Answer: To answer this question, data on the dates of maintenance checks and the corresponding crane performance can be analyzed. A line graph can be created to display the trend in crane performance over time, with vertical lines indicating the dates of maintenance checks. From the graph, it can be observed if there is any significant change in crane performance after each check, and the frequency of the checks can be determined."
      ],
      "metadata": {
        "id": "WbWamqoBaIkY"
      }
    },
    {
      "cell_type": "markdown",
      "source": [
        "#d. Check if all attributes are properly formed find missing values, outliers etc...."
      ],
      "metadata": {
        "id": "Acy4u1khcLPu"
      }
    },
    {
      "cell_type": "markdown",
      "source": [
        "# = All attributes (Speed, Angle, and Power) are properly formed and do not have any missing values or outliers."
      ],
      "metadata": {
        "id": "4a_T9aZMdLwb"
      }
    },
    {
      "cell_type": "markdown",
      "source": [
        " # e. Find what kind of ML Problem you can define over this data and define it. Propose 2 distinct ML Algorithm based solutions."
      ],
      "metadata": {
        "id": "OcLpZWqne6lo"
      }
    },
    {
      "cell_type": "markdown",
      "source": [
        "= This data represents a regression problem, as we are trying to predict a continuous variable (power) based on two features (speed and angle).\n",
        "\n",
        "#Algorithm 1: Linear Regression\n",
        "One solution could be using linear regression to model the relationship between the features and the target variable. We can fit a multiple regression model with speed and angle as the predictors and power as the response variable. The coefficients for each variable will give us an idea of how much each feature contributes to the power output.\n",
        "\n",
        "#Algorithm 2: Random Forest Regression\n",
        "Another solution could be using a random forest regression model. Random Forests are an ensemble learning method that constructs multiple decision trees at training time and outputs the mean prediction of the individual trees as the final prediction. This method allows for non-linear relationships between the features and the target variable to be captured. We can train a random forest regressor using the speed and angle features, and predict the power output. We can then evaluate the performance of the model using the mean squared error or root mean squared error."
      ],
      "metadata": {
        "id": "Tj-5GKZ_e_EV"
      }
    }
  ]
}